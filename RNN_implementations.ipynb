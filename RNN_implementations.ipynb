{
 "cells": [
  {
   "cell_type": "code",
   "execution_count": null,
   "id": "565d15ca",
   "metadata": {},
   "outputs": [],
   "source": [
    "import numpy as np\n",
    "import matplotlib.pyplot as plt\n",
    "import torch\n",
    "from torch import nn\n",
    "\n",
    "torch.set_default_tensor_type(torch.DoubleTensor) \n",
    "\n",
    "from networks.rnn import LSTMModel\n",
    "\n",
    "def _LSTM_(input_dim, hidden_dim, layer_dim, output_dim, criterion, num_epochs):\n",
    "\n",
    "    model = LSTMModel(input_dim, hidden_dim, layer_dim, output_dim)\n",
    "    #criterion = torch.nn.L1Loss()\n",
    "    optimizer = torch.optim.SGD(model.parameters(), lr=learning_rate) \n",
    "\n",
    "\n",
    "    for epoch in range(num_epochs):\n",
    "        outputs = model.forward(X_train) #forward pass\n",
    "        optimizer.zero_grad() #caluclate the gradient, manually setting to 0\n",
    "\n",
    "        # obtain the loss function\n",
    "        loss = criterion(outputs, y_train)\n",
    "\n",
    "        loss.backward() #calculates the loss of the loss function\n",
    "\n",
    "        optimizer.step() #improve from loss, i.e backprop\n",
    "        if epoch % 100 == 0:\n",
    "            print(\"Epoch: %d, loss: %1.5f\" % (epoch, loss.item()))\n",
    "\n",
    "\n",
    "\n",
    "from utils.preprocess import getData\n",
    "\n",
    "X_train, y_train, X_valid, y_valid, X_test, y_test = getData()\n",
    "\n",
    "X_train = torch.reshape(X_train, (X_train.shape[0], X_train.shape[2], X_train.shape[1]))\n",
    "X_valid= torch.reshape(X_valid, (X_valid.shape[0], X_valid.shape[2], X_valid.shape[1]))\n",
    "X_test= torch.reshape(X_test, (X_test.shape[0], X_test.shape[2], X_test.shape[1]))\n",
    "\n",
    "\n",
    "\n",
    "num_epochs = 500 #1000 epochs\n",
    "learning_rate = 0.001 #0.001 lr\n",
    "#(N, 250, 22) #(N,L,H) input of batch_dim x seq_dim x feature_dim\n",
    "feature_dim = X_train.shape[2]#(X_train.shape[1],X_train.shape[2]) #number of features\n",
    "seq_dim = X_train.shape[1]\n",
    "\n",
    "\n",
    "input_dim = 22\n",
    "hidden_dim = 2 #number of features in hidden state\n",
    "layer_dim = 1 #number of stacked lstm layers\n",
    "output_dim = 4 #number of output classes\n",
    "seq_dim = 250  # Number of steps to unroll\n",
    "\n",
    "_LSTM_(input_dim, hidden_dim, layer_dim, output_dim, torch.nn.L1Loss(), num_epochs)"
   ]
  }
 ],
 "metadata": {
  "kernelspec": {
   "display_name": "Python 3",
   "language": "python",
   "name": "python3"
  },
  "language_info": {
   "codemirror_mode": {
    "name": "ipython",
    "version": 3
   },
   "file_extension": ".py",
   "mimetype": "text/x-python",
   "name": "python",
   "nbconvert_exporter": "python",
   "pygments_lexer": "ipython3",
   "version": "3.8.8"
  }
 },
 "nbformat": 4,
 "nbformat_minor": 5
}
