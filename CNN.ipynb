{
 "cells": [
  {
   "cell_type": "markdown",
   "metadata": {},
   "source": [
    "### Import Packages"
   ]
  },
  {
   "cell_type": "code",
   "execution_count": 21,
   "metadata": {},
   "outputs": [
    {
     "name": "stdout",
     "output_type": "stream",
     "text": [
      "The autoreload extension is already loaded. To reload it, use:\n",
      "  %reload_ext autoreload\n"
     ]
    }
   ],
   "source": [
    "import numpy as np\n",
    "import torch.optim as optim\n",
    "import torch\n",
    "import torch.nn as nn\n",
    "\n",
    "from utils.preprocess import getData\n",
    "from utils.validate import validate\n",
    "from networks.cnn import BasicCNN\n",
    "from networks.cnn import OptimizedCNN\n",
    "from networks.cnn import OptimizedCNNV2\n",
    "from networks.cnn import DeepCNN\n",
    "from networks.cnn import VariableFiltersCNN\n",
    "import matplotlib.pyplot as plt\n",
    "from utils.test_accuracy import test\n",
    "from utils.test_accuracy import compute_test_outputs\n",
    "# for auto-reloading external modules\n",
    "# see http://stackoverflow.com/questions/1907993/autoreload-of-modules-in-ipython\n",
    "%load_ext autoreload\n",
    "%autoreload 2\n"
   ]
  },
  {
   "cell_type": "markdown",
   "metadata": {
    "collapsed": true
   },
   "source": [
    "### Load, Preprocess Data\n"
   ]
  },
  {
   "cell_type": "code",
   "execution_count": 30,
   "metadata": {},
   "outputs": [],
   "source": [
    "X_train, y_train, X_valid, y_valid, X_test, y_test, mapToOriginal = getData(lib='torch')"
   ]
  },
  {
   "cell_type": "markdown",
   "metadata": {},
   "source": [
    "### Shape of data"
   ]
  },
  {
   "cell_type": "code",
   "execution_count": 31,
   "metadata": {},
   "outputs": [
    {
     "name": "stdout",
     "output_type": "stream",
     "text": [
      "Training data shape: torch.Size([1728, 22, 250, 1])\n",
      "Valid data shape: torch.Size([423, 22, 250, 1])\n",
      "Test data shape: torch.Size([1772, 22, 250, 1])\n",
      "Training target shape: torch.Size([1728, 4])\n",
      "Valid target shape: torch.Size([423, 4])\n",
      "Test target shape: torch.Size([1772, 4])\n"
     ]
    }
   ],
   "source": [
    "print('Training data shape: {}'.format(X_train.shape))\n",
    "print('Valid data shape: {}'.format(X_valid.shape))\n",
    "print('Test data shape: {}'.format(X_test.shape))\n",
    "\n",
    "print('Training target shape: {}'.format(y_train.shape))\n",
    "print('Valid target shape: {}'.format(y_valid.shape))\n",
    "print('Test target shape: {}'.format(y_test.shape))"
   ]
  },
  {
   "cell_type": "markdown",
   "metadata": {},
   "source": [
    "### Initialize Dataset and DataLoaders"
   ]
  },
  {
   "cell_type": "code",
   "execution_count": 4,
   "metadata": {},
   "outputs": [],
   "source": [
    "batch_size=64\n",
    "trainset = torch.utils.data.TensorDataset(X_train,y_train)\n",
    "trainloader = torch.utils.data.DataLoader(trainset, batch_size=batch_size,\n",
    "                                          shuffle=True, num_workers=0)\n",
    "\n",
    "# Shuffle is set to false for validation and test sets since no training is done on them, all we do is evaluate.\n",
    "valset =  torch.utils.data.TensorDataset(X_valid, y_valid)\n",
    "valloader = torch.utils.data.DataLoader(valset, batch_size=batch_size,\n",
    "                                          shuffle=False, num_workers=0)\n",
    "\n",
    "testset = torch.utils.data.TensorDataset(X_test, y_test)\n",
    "testloader = torch.utils.data.DataLoader(testset, batch_size=1,\n",
    "                                          shuffle=False, num_workers=0)"
   ]
  },
  {
   "cell_type": "markdown",
   "metadata": {},
   "source": [
    "### Train a Convolutional Neural Network"
   ]
  },
  {
   "cell_type": "code",
   "execution_count": 14,
   "metadata": {},
   "outputs": [
    {
     "name": "stdout",
     "output_type": "stream",
     "text": [
      "BasicCNN(\n",
      "  (conv1): Conv2d(22, 25, kernel_size=(10, 1), stride=(1, 1), padding=same)\n",
      "  (pool1): MaxPool2d(kernel_size=(3, 1), stride=1, padding=(1, 0), dilation=1, ceil_mode=False)\n",
      "  (batchnorm1): BatchNorm2d(25, eps=1e-05, momentum=0.1, affine=True, track_running_stats=True)\n",
      "  (dropout1): Dropout(p=0.4, inplace=False)\n",
      "  (conv2): Conv2d(25, 50, kernel_size=(10, 1), stride=(1, 1), padding=same)\n",
      "  (pool2): MaxPool2d(kernel_size=(3, 1), stride=1, padding=(1, 0), dilation=1, ceil_mode=False)\n",
      "  (batchnorm2): BatchNorm2d(50, eps=1e-05, momentum=0.1, affine=True, track_running_stats=True)\n",
      "  (dropout2): Dropout(p=0.4, inplace=False)\n",
      "  (conv3): Conv2d(50, 100, kernel_size=(10, 1), stride=(1, 1), padding=same)\n",
      "  (pool3): MaxPool2d(kernel_size=(3, 1), stride=1, padding=(1, 0), dilation=1, ceil_mode=False)\n",
      "  (batchnorm3): BatchNorm2d(100, eps=1e-05, momentum=0.1, affine=True, track_running_stats=True)\n",
      "  (dropout3): Dropout(p=0.4, inplace=False)\n",
      "  (conv4): Conv2d(100, 200, kernel_size=(10, 1), stride=(1, 1), padding=same)\n",
      "  (pool4): MaxPool2d(kernel_size=(3, 1), stride=1, padding=(1, 0), dilation=1, ceil_mode=False)\n",
      "  (batchnorm4): BatchNorm2d(200, eps=1e-05, momentum=0.1, affine=True, track_running_stats=True)\n",
      "  (dropout4): Dropout(p=0.4, inplace=False)\n",
      "  (affine): Linear(in_features=50000, out_features=4, bias=True)\n",
      ")\n"
     ]
    }
   ],
   "source": [
    "# Initialize the network\n",
    "network = BasicCNN()\n",
    "print(network)"
   ]
  },
  {
   "cell_type": "code",
   "execution_count": 11,
   "metadata": {},
   "outputs": [
    {
     "name": "stderr",
     "output_type": "stream",
     "text": [
      "/Users/siddharthladha/opt/anaconda3/envs/finalProject/lib/python3.9/site-packages/torch/nn/modules/conv.py:442: UserWarning: Using padding='same' with even kernel lengths and odd dilation may require a zero-padded copy of the input be created (Triggered internally at  ../aten/src/ATen/native/Convolution.cpp:647.)\n",
      "  return F.conv2d(input, weight, bias, self.stride,\n"
     ]
    },
    {
     "name": "stdout",
     "output_type": "stream",
     "text": [
      "Epoch: 0\n",
      "\t -- Train Loss: 3.2646478523901843 | Train Accuracy: 42.47126436781609\n",
      "\t -- Val Loss: 2.778337443868319 | Val Accuracy: 47.4\n",
      "Epoch: 1\n",
      "\t -- Train Loss: 2.6728703833501273 | Train Accuracy: 56.867816091954026\n",
      "\t -- Val Loss: 1.7206367899974186 | Val Accuracy: 62.6\n",
      "Epoch: 2\n",
      "\t -- Train Loss: 1.8336009678490666 | Train Accuracy: 67.05459770114942\n",
      "\t -- Val Loss: 1.5905541256070137 | Val Accuracy: 66.0\n",
      "Epoch: 3\n",
      "\t -- Train Loss: 1.3209000076722661 | Train Accuracy: 73.72126436781609\n",
      "\t -- Val Loss: 1.4152166247367859 | Val Accuracy: 69.66666666666667\n",
      "Epoch: 4\n",
      "\t -- Train Loss: 0.9155816865076712 | Train Accuracy: 80.17241379310344\n",
      "\t -- Val Loss: 0.9820176747937998 | Val Accuracy: 78.0\n",
      "Epoch: 5\n",
      "\t -- Train Loss: 0.6672043010182337 | Train Accuracy: 83.47701149425288\n",
      "\t -- Val Loss: 0.7940009571611881 | Val Accuracy: 79.73333333333333\n",
      "Epoch: 6\n",
      "\t -- Train Loss: 0.5427009351209763 | Train Accuracy: 86.6235632183908\n",
      "\t -- Val Loss: 0.3672515243912737 | Val Accuracy: 88.8\n",
      "Epoch: 7\n",
      "\t -- Train Loss: 0.43244507799454784 | Train Accuracy: 88.36206896551724\n",
      "\t -- Val Loss: 0.4982106393824021 | Val Accuracy: 86.4\n",
      "Epoch: 8\n",
      "\t -- Train Loss: 0.32816122103174894 | Train Accuracy: 90.76149425287356\n",
      "\t -- Val Loss: 0.46165689763923484 | Val Accuracy: 87.2\n",
      "Epoch: 9\n",
      "\t -- Train Loss: 0.28240288233538285 | Train Accuracy: 91.63793103448276\n",
      "\t -- Val Loss: 0.5187592646107078 | Val Accuracy: 86.2\n",
      "Epoch: 10\n",
      "\t -- Train Loss: 0.22005971476709077 | Train Accuracy: 93.23275862068965\n",
      "\t -- Val Loss: 0.281579543525974 | Val Accuracy: 92.26666666666667\n",
      "Epoch: 11\n",
      "\t -- Train Loss: 0.19060137367234864 | Train Accuracy: 94.00862068965517\n",
      "\t -- Val Loss: 0.3356117137397329 | Val Accuracy: 91.66666666666667\n",
      "Epoch: 12\n",
      "\t -- Train Loss: 0.16903095487334313 | Train Accuracy: 95.05747126436782\n",
      "\t -- Val Loss: 0.28745704299459857 | Val Accuracy: 91.8\n",
      "Epoch: 13\n",
      "\t -- Train Loss: 0.1565982841741328 | Train Accuracy: 94.97126436781609\n",
      "\t -- Val Loss: 0.20150791915754476 | Val Accuracy: 93.86666666666666\n",
      "Epoch: 14\n",
      "\t -- Train Loss: 0.1316709002103964 | Train Accuracy: 95.67528735632185\n",
      "\t -- Val Loss: 0.11588963627582416 | Val Accuracy: 97.0\n",
      "Epoch: 15\n",
      "\t -- Train Loss: 0.11331336578320063 | Train Accuracy: 96.30747126436782\n",
      "\t -- Val Loss: 0.15602193627273664 | Val Accuracy: 95.93333333333334\n",
      "Epoch: 16\n",
      "\t -- Train Loss: 0.11588848456569495 | Train Accuracy: 96.22126436781609\n",
      "\t -- Val Loss: 0.1341211834611992 | Val Accuracy: 96.6\n",
      "Epoch: 17\n",
      "\t -- Train Loss: 0.0981991069643425 | Train Accuracy: 96.70977011494253\n",
      "\t -- Val Loss: 0.20762616458038488 | Val Accuracy: 95.26666666666667\n",
      "Epoch: 18\n",
      "\t -- Train Loss: 0.09124696907083239 | Train Accuracy: 97.11206896551724\n",
      "\t -- Val Loss: 0.16936830795990923 | Val Accuracy: 96.06666666666666\n",
      "Epoch: 19\n",
      "\t -- Train Loss: 0.09757980883736676 | Train Accuracy: 96.86781609195403\n",
      "\t -- Val Loss: 0.15910534219195446 | Val Accuracy: 96.53333333333333\n"
     ]
    }
   ],
   "source": [
    "# Select loss criterion\n",
    "criterion = nn.CrossEntropyLoss()\n",
    "\n",
    "# create your optimizer\n",
    "optimizer = optim.Adam(network.parameters(), lr=0.001)\n",
    "\n",
    "# Setup learning rate scheduler\n",
    "scheduler = optim.lr_scheduler.ExponentialLR(optimizer, gamma=0.9)\n",
    "\n",
    "# Train the network\n",
    "num_epochs = 20\n",
    "\n",
    "# Store the loss\n",
    "stats = {\n",
    "    'train_accuracies': [],\n",
    "    'train_losses': [],\n",
    "    'val_accuracies': [],\n",
    "    'val_losses': []\n",
    "}\n",
    "\n",
    "for epoch in range(num_epochs): # loop over the dataset multiple times\n",
    "    running_loss = 0.0\n",
    "    correct = 0.0\n",
    "    total = 0.0\n",
    "    for i, data in enumerate(trainloader, 0):\n",
    "        # get the inputs; data is a list of [inputs, labels]\n",
    "        inputs, labels = data\n",
    "        inputs = inputs.float()\n",
    "        labels = labels.float()\n",
    "  \n",
    "        # forward pass\n",
    "        outputs = network(inputs)\n",
    "        \n",
    "        loss = criterion(outputs, labels)\n",
    "        \n",
    "\n",
    "        # backward + optimize\n",
    "        loss.backward() # backward to get gradient values\n",
    "        \n",
    "        optimizer.step() # does the update\n",
    "    \n",
    "        # zero the parameter gradients\n",
    "        optimizer.zero_grad()\n",
    "        \n",
    "        # accumulate loss\n",
    "        running_loss += loss.item()\n",
    "        \n",
    "        # Make prediction for batch\n",
    "        _, predicted = outputs.max(1)\n",
    "        \n",
    "        # Store accuracy for batch\n",
    "        # WE convert back from one-hot to integer for checking accuracy\n",
    "        total += labels.size(0)\n",
    "        correct += predicted.eq(torch.argmax(labels, dim=1)).sum().item()\n",
    "        \n",
    "    # Store accuracy,loss for epoch\n",
    "    train_loss=running_loss/len(trainloader)\n",
    "    train_accuracy=100.*correct/total\n",
    "    \n",
    "    # At the end of each epoch, calculate validation accuracy\n",
    "    \n",
    "    # Set the network in eval mode since we're not training here\n",
    "    network.eval()\n",
    "    \n",
    "     # Turn gradient computation off\n",
    "    with torch.no_grad():\n",
    "        val_accuracy, val_loss = validate(network, valloader, criterion)\n",
    "    \n",
    "    # Set the network back in training mode\n",
    "    network.train()\n",
    "    \n",
    "    stats['train_accuracies'].append(train_accuracy)\n",
    "    stats['train_losses'].append(train_loss)\n",
    "    stats['val_accuracies'].append(val_accuracy)\n",
    "    stats['val_losses'].append(val_loss)\n",
    "    \n",
    "    \n",
    "    # Display results\n",
    "    print(f'Epoch: {epoch}')\n",
    "    print(f'\\t -- Train Loss: {train_loss} | Train Accuracy: {train_accuracy}')\n",
    "    print(f'\\t -- Val Loss: {val_loss} | Val Accuracy: {val_accuracy}')\n",
    "    \n",
    "    # At the end of each epoch, schedule the learning rate decay\n",
    "    scheduler.step()"
   ]
  },
  {
   "cell_type": "markdown",
   "metadata": {},
   "source": [
    "### Plot training curves"
   ]
  },
  {
   "cell_type": "code",
   "execution_count": 12,
   "metadata": {},
   "outputs": [
    {
     "data": {
      "image/png": "[encoded data removed]",
      "text/plain": [
       "<Figure size 432x288 with 1 Axes>"
      ]
     },
     "metadata": {
      "needs_background": "light"
     },
     "output_type": "display_data"
    },
    {
     "data": {
      "image/png": "[encoded data removed]",
      "text/plain": [
       "<Figure size 432x288 with 1 Axes>"
      ]
     },
     "metadata": {
      "needs_background": "light"
     },
     "output_type": "display_data"
    }
   ],
   "source": [
    "plt.figure()\n",
    "plt.plot(np.arange(num_epochs), stats['train_losses'], label='Training')\n",
    "plt.plot(np.arange(num_epochs), stats['val_losses'], label='Validation')\n",
    "plt.xlabel('Epochs')\n",
    "plt.ylabel('Loss')\n",
    "plt.legend()\n",
    "plt.show()\n",
    "\n",
    "plt.figure()\n",
    "plt.plot(np.arange(num_epochs), stats['train_accuracies'], label='Training')\n",
    "plt.plot(np.arange(num_epochs), stats['val_accuracies'], label='Validation')\n",
    "plt.xlabel('Epochs')\n",
    "plt.ylabel('Accuracy')\n",
    "plt.legend()\n",
    "plt.show()"
   ]
  },
  {
   "cell_type": "markdown",
   "metadata": {},
   "source": [
    "### Evaluate on Test Set"
   ]
  },
  {
   "cell_type": "code",
   "execution_count": 13,
   "metadata": {},
   "outputs": [
    {
     "name": "stderr",
     "output_type": "stream",
     "text": [
      "[W NNPACK.cpp:79] Could not initialize NNPACK! Reason: Unsupported hardware.\n"
     ]
    },
    {
     "name": "stdout",
     "output_type": "stream",
     "text": [
      "Accuracy of the network on the 443 test examples: 57.78781038374717 %\n"
     ]
    }
   ],
   "source": [
    "# Set the network in eval mode since we're not training here\n",
    "\n",
    "network.eval()\n",
    "outputs = None\n",
    "\n",
    " # Turn gradient computation off\n",
    "with torch.no_grad():\n",
    "    outputs = compute_test_outputs(network,testloader,y_test)\n",
    "    \n",
    "# Set the network back in training mode\n",
    "network.train()\n",
    "    \n",
    "    \n",
    "test_accuracy = test(outputs, mapToOriginal['y_test'])\n",
    "\n",
    "num_examples = mapToOriginal['y_test'].size\n",
    "\n",
    "\n",
    "print(f'Accuracy of the network on the {num_examples} test examples: {test_accuracy} %')"
   ]
  },
  {
   "cell_type": "markdown",
   "metadata": {},
   "source": [
    "### Save the model for inference or further training"
   ]
  },
  {
   "cell_type": "code",
   "execution_count": 14,
   "metadata": {},
   "outputs": [],
   "source": [
    "path = \"saved-models/basicCNN2.pth\"\n",
    "state = {\n",
    "    'epoch': 5,\n",
    "    'state_dict': network.state_dict(),\n",
    "    'optimizer': optimizer.state_dict(),\n",
    "}\n",
    "torch.save(state, path)"
   ]
  },
  {
   "cell_type": "markdown",
   "metadata": {},
   "source": [
    "### Optimizing the model\n",
    "\n",
    "Now, let us try to optimize the model by varying the configuration of the layers, and using hyperparameter tuning to determine the best filter size, among other hyper paramaters\n",
    "\n",
    "From lectures, we have learnt that it is often useful to have multiple convolutional layers before a pooling layer to add complexity to our model.\n",
    "\n",
    "In addition, it is also advisable to put the batch-normalization layer immediately after the convolutional layer. (from lecture).\n",
    "\n",
    "Let us try these ideas below:"
   ]
  },
  {
   "cell_type": "code",
   "execution_count": 15,
   "metadata": {},
   "outputs": [
    {
     "name": "stdout",
     "output_type": "stream",
     "text": [
      "OptimizedCNN(\n",
      "  (conv1): Conv2d(22, 25, kernel_size=(10, 1), stride=(1, 1), padding=same)\n",
      "  (batchnorm1): BatchNorm2d(25, eps=1e-05, momentum=0.1, affine=True, track_running_stats=True)\n",
      "  (dropout1): Dropout(p=0.4, inplace=False)\n",
      "  (conv2): Conv2d(25, 50, kernel_size=(10, 1), stride=(1, 1), padding=same)\n",
      "  (batchnorm2): BatchNorm2d(50, eps=1e-05, momentum=0.1, affine=True, track_running_stats=True)\n",
      "  (dropout2): Dropout(p=0.4, inplace=False)\n",
      "  (pool1): MaxPool2d(kernel_size=(3, 1), stride=1, padding=(1, 0), dilation=1, ceil_mode=False)\n",
      "  (conv3): Conv2d(50, 100, kernel_size=(10, 1), stride=(1, 1), padding=same)\n",
      "  (batchnorm3): BatchNorm2d(100, eps=1e-05, momentum=0.1, affine=True, track_running_stats=True)\n",
      "  (dropout3): Dropout(p=0.4, inplace=False)\n",
      "  (conv4): Conv2d(100, 200, kernel_size=(10, 1), stride=(1, 1), padding=same)\n",
      "  (batchnorm4): BatchNorm2d(200, eps=1e-05, momentum=0.1, affine=True, track_running_stats=True)\n",
      "  (dropout4): Dropout(p=0.4, inplace=False)\n",
      "  (pool2): MaxPool2d(kernel_size=(3, 1), stride=1, padding=(1, 0), dilation=1, ceil_mode=False)\n",
      "  (affine): Linear(in_features=50000, out_features=4, bias=True)\n",
      ")\n"
     ]
    }
   ],
   "source": [
    "# Initialize the network\n",
    "network = OptimizedCNN()\n",
    "print(network)"
   ]
  },
  {
   "cell_type": "code",
   "execution_count": 16,
   "metadata": {},
   "outputs": [
    {
     "name": "stdout",
     "output_type": "stream",
     "text": [
      "Epoch: 0\n",
      "\t -- Train Loss: 7.163239629990464 | Train Accuracy: 31.882183908045977\n",
      "\t -- Val Loss: 3.117256780465444 | Val Accuracy: 32.53333333333333\n",
      "Epoch: 1\n",
      "\t -- Train Loss: 5.40870305266949 | Train Accuracy: 39.798850574712645\n",
      "\t -- Val Loss: 27.874557971954346 | Val Accuracy: 28.666666666666668\n",
      "Epoch: 2\n",
      "\t -- Train Loss: 4.09515522051295 | Train Accuracy: 43.9080459770115\n",
      "\t -- Val Loss: 43.28024927775065 | Val Accuracy: 30.733333333333334\n",
      "Epoch: 3\n",
      "\t -- Train Loss: 2.933387707132812 | Train Accuracy: 47.701149425287355\n",
      "\t -- Val Loss: 12341.8271484375 | Val Accuracy: 24.466666666666665\n"
     ]
    },
    {
     "ename": "KeyboardInterrupt",
     "evalue": "",
     "output_type": "error",
     "traceback": [
      "\u001b[0;31m---------------------------------------------------------------------------\u001b[0m",
      "\u001b[0;31mKeyboardInterrupt\u001b[0m                         Traceback (most recent call last)",
      "Input \u001b[0;32mIn [16]\u001b[0m, in \u001b[0;36m<cell line: 21>\u001b[0;34m()\u001b[0m\n\u001b[1;32m     65\u001b[0m  \u001b[38;5;66;03m# Turn gradient computation off\u001b[39;00m\n\u001b[1;32m     66\u001b[0m \u001b[38;5;28;01mwith\u001b[39;00m torch\u001b[38;5;241m.\u001b[39mno_grad():\n\u001b[0;32m---> 67\u001b[0m     val_accuracy, val_loss \u001b[38;5;241m=\u001b[39m \u001b[43mvalidate\u001b[49m\u001b[43m(\u001b[49m\u001b[43mnetwork\u001b[49m\u001b[43m,\u001b[49m\u001b[43m \u001b[49m\u001b[43mvalloader\u001b[49m\u001b[43m,\u001b[49m\u001b[43m \u001b[49m\u001b[43mcriterion\u001b[49m\u001b[43m)\u001b[49m\n\u001b[1;32m     69\u001b[0m \u001b[38;5;66;03m# Set the network back in training mode\u001b[39;00m\n\u001b[1;32m     70\u001b[0m network\u001b[38;5;241m.\u001b[39mtrain()\n",
      "File \u001b[0;32m~/Desktop/ECE C147/Project/project-code/utils/validate.py:18\u001b[0m, in \u001b[0;36mvalidate\u001b[0;34m(network, valloader, criterion)\u001b[0m\n\u001b[1;32m     15\u001b[0m inputs \u001b[38;5;241m=\u001b[39m inputs\u001b[38;5;241m.\u001b[39mfloat()\n\u001b[1;32m     16\u001b[0m labels \u001b[38;5;241m=\u001b[39m labels\u001b[38;5;241m.\u001b[39mfloat()\n\u001b[0;32m---> 18\u001b[0m outputs \u001b[38;5;241m=\u001b[39m \u001b[43mnetwork\u001b[49m\u001b[43m(\u001b[49m\u001b[43minputs\u001b[49m\u001b[43m)\u001b[49m\n\u001b[1;32m     19\u001b[0m loss \u001b[38;5;241m=\u001b[39m criterion(outputs, labels)\n\u001b[1;32m     20\u001b[0m _, predicted \u001b[38;5;241m=\u001b[39m outputs\u001b[38;5;241m.\u001b[39mmax(\u001b[38;5;241m1\u001b[39m)\n",
      "File \u001b[0;32m~/opt/anaconda3/envs/finalProject/lib/python3.9/site-packages/torch/nn/modules/module.py:1102\u001b[0m, in \u001b[0;36mModule._call_impl\u001b[0;34m(self, *input, **kwargs)\u001b[0m\n\u001b[1;32m   1098\u001b[0m \u001b[38;5;66;03m# If we don't have any hooks, we want to skip the rest of the logic in\u001b[39;00m\n\u001b[1;32m   1099\u001b[0m \u001b[38;5;66;03m# this function, and just call forward.\u001b[39;00m\n\u001b[1;32m   1100\u001b[0m \u001b[38;5;28;01mif\u001b[39;00m \u001b[38;5;129;01mnot\u001b[39;00m (\u001b[38;5;28mself\u001b[39m\u001b[38;5;241m.\u001b[39m_backward_hooks \u001b[38;5;129;01mor\u001b[39;00m \u001b[38;5;28mself\u001b[39m\u001b[38;5;241m.\u001b[39m_forward_hooks \u001b[38;5;129;01mor\u001b[39;00m \u001b[38;5;28mself\u001b[39m\u001b[38;5;241m.\u001b[39m_forward_pre_hooks \u001b[38;5;129;01mor\u001b[39;00m _global_backward_hooks\n\u001b[1;32m   1101\u001b[0m         \u001b[38;5;129;01mor\u001b[39;00m _global_forward_hooks \u001b[38;5;129;01mor\u001b[39;00m _global_forward_pre_hooks):\n\u001b[0;32m-> 1102\u001b[0m     \u001b[38;5;28;01mreturn\u001b[39;00m \u001b[43mforward_call\u001b[49m\u001b[43m(\u001b[49m\u001b[38;5;241;43m*\u001b[39;49m\u001b[38;5;28;43minput\u001b[39;49m\u001b[43m,\u001b[49m\u001b[43m \u001b[49m\u001b[38;5;241;43m*\u001b[39;49m\u001b[38;5;241;43m*\u001b[39;49m\u001b[43mkwargs\u001b[49m\u001b[43m)\u001b[49m\n\u001b[1;32m   1103\u001b[0m \u001b[38;5;66;03m# Do not call functions when jit is used\u001b[39;00m\n\u001b[1;32m   1104\u001b[0m full_backward_hooks, non_full_backward_hooks \u001b[38;5;241m=\u001b[39m [], []\n",
      "File \u001b[0;32m~/Desktop/ECE C147/Project/project-code/networks/cnn.py:137\u001b[0m, in \u001b[0;36mOptimizedCNN.forward\u001b[0;34m(self, x)\u001b[0m\n\u001b[1;32m    133\u001b[0m \u001b[38;5;66;03m#\u001b[39;00m\n\u001b[1;32m    134\u001b[0m \n\u001b[1;32m    135\u001b[0m \u001b[38;5;66;03m# [conv-batchnorm-relu-dropout-conv-batchnorm-relu-dropout]\u001b[39;00m\n\u001b[1;32m    136\u001b[0m x \u001b[38;5;241m=\u001b[39m \u001b[38;5;28mself\u001b[39m\u001b[38;5;241m.\u001b[39mdropout3(\u001b[38;5;28mself\u001b[39m\u001b[38;5;241m.\u001b[39mbatchnorm3(F\u001b[38;5;241m.\u001b[39mrelu(\u001b[38;5;28mself\u001b[39m\u001b[38;5;241m.\u001b[39mconv3(x))))\n\u001b[0;32m--> 137\u001b[0m x \u001b[38;5;241m=\u001b[39m \u001b[38;5;28mself\u001b[39m\u001b[38;5;241m.\u001b[39mdropout4(\u001b[38;5;28mself\u001b[39m\u001b[38;5;241m.\u001b[39mbatchnorm4(F\u001b[38;5;241m.\u001b[39mrelu(\u001b[38;5;28;43mself\u001b[39;49m\u001b[38;5;241;43m.\u001b[39;49m\u001b[43mconv4\u001b[49m\u001b[43m(\u001b[49m\u001b[43mx\u001b[49m\u001b[43m)\u001b[49m)))\n\u001b[1;32m    140\u001b[0m \u001b[38;5;66;03m# pool\u001b[39;00m\n\u001b[1;32m    141\u001b[0m x \u001b[38;5;241m=\u001b[39m \u001b[38;5;28mself\u001b[39m\u001b[38;5;241m.\u001b[39mpool2(x)\n",
      "File \u001b[0;32m~/opt/anaconda3/envs/finalProject/lib/python3.9/site-packages/torch/nn/modules/module.py:1102\u001b[0m, in \u001b[0;36mModule._call_impl\u001b[0;34m(self, *input, **kwargs)\u001b[0m\n\u001b[1;32m   1098\u001b[0m \u001b[38;5;66;03m# If we don't have any hooks, we want to skip the rest of the logic in\u001b[39;00m\n\u001b[1;32m   1099\u001b[0m \u001b[38;5;66;03m# this function, and just call forward.\u001b[39;00m\n\u001b[1;32m   1100\u001b[0m \u001b[38;5;28;01mif\u001b[39;00m \u001b[38;5;129;01mnot\u001b[39;00m (\u001b[38;5;28mself\u001b[39m\u001b[38;5;241m.\u001b[39m_backward_hooks \u001b[38;5;129;01mor\u001b[39;00m \u001b[38;5;28mself\u001b[39m\u001b[38;5;241m.\u001b[39m_forward_hooks \u001b[38;5;129;01mor\u001b[39;00m \u001b[38;5;28mself\u001b[39m\u001b[38;5;241m.\u001b[39m_forward_pre_hooks \u001b[38;5;129;01mor\u001b[39;00m _global_backward_hooks\n\u001b[1;32m   1101\u001b[0m         \u001b[38;5;129;01mor\u001b[39;00m _global_forward_hooks \u001b[38;5;129;01mor\u001b[39;00m _global_forward_pre_hooks):\n\u001b[0;32m-> 1102\u001b[0m     \u001b[38;5;28;01mreturn\u001b[39;00m \u001b[43mforward_call\u001b[49m\u001b[43m(\u001b[49m\u001b[38;5;241;43m*\u001b[39;49m\u001b[38;5;28;43minput\u001b[39;49m\u001b[43m,\u001b[49m\u001b[43m \u001b[49m\u001b[38;5;241;43m*\u001b[39;49m\u001b[38;5;241;43m*\u001b[39;49m\u001b[43mkwargs\u001b[49m\u001b[43m)\u001b[49m\n\u001b[1;32m   1103\u001b[0m \u001b[38;5;66;03m# Do not call functions when jit is used\u001b[39;00m\n\u001b[1;32m   1104\u001b[0m full_backward_hooks, non_full_backward_hooks \u001b[38;5;241m=\u001b[39m [], []\n",
      "File \u001b[0;32m~/opt/anaconda3/envs/finalProject/lib/python3.9/site-packages/torch/nn/modules/conv.py:446\u001b[0m, in \u001b[0;36mConv2d.forward\u001b[0;34m(self, input)\u001b[0m\n\u001b[1;32m    445\u001b[0m \u001b[38;5;28;01mdef\u001b[39;00m \u001b[38;5;21mforward\u001b[39m(\u001b[38;5;28mself\u001b[39m, \u001b[38;5;28minput\u001b[39m: Tensor) \u001b[38;5;241m-\u001b[39m\u001b[38;5;241m>\u001b[39m Tensor:\n\u001b[0;32m--> 446\u001b[0m     \u001b[38;5;28;01mreturn\u001b[39;00m \u001b[38;5;28;43mself\u001b[39;49m\u001b[38;5;241;43m.\u001b[39;49m\u001b[43m_conv_forward\u001b[49m\u001b[43m(\u001b[49m\u001b[38;5;28;43minput\u001b[39;49m\u001b[43m,\u001b[49m\u001b[43m \u001b[49m\u001b[38;5;28;43mself\u001b[39;49m\u001b[38;5;241;43m.\u001b[39;49m\u001b[43mweight\u001b[49m\u001b[43m,\u001b[49m\u001b[43m \u001b[49m\u001b[38;5;28;43mself\u001b[39;49m\u001b[38;5;241;43m.\u001b[39;49m\u001b[43mbias\u001b[49m\u001b[43m)\u001b[49m\n",
      "File \u001b[0;32m~/opt/anaconda3/envs/finalProject/lib/python3.9/site-packages/torch/nn/modules/conv.py:442\u001b[0m, in \u001b[0;36mConv2d._conv_forward\u001b[0;34m(self, input, weight, bias)\u001b[0m\n\u001b[1;32m    438\u001b[0m \u001b[38;5;28;01mif\u001b[39;00m \u001b[38;5;28mself\u001b[39m\u001b[38;5;241m.\u001b[39mpadding_mode \u001b[38;5;241m!=\u001b[39m \u001b[38;5;124m'\u001b[39m\u001b[38;5;124mzeros\u001b[39m\u001b[38;5;124m'\u001b[39m:\n\u001b[1;32m    439\u001b[0m     \u001b[38;5;28;01mreturn\u001b[39;00m F\u001b[38;5;241m.\u001b[39mconv2d(F\u001b[38;5;241m.\u001b[39mpad(\u001b[38;5;28minput\u001b[39m, \u001b[38;5;28mself\u001b[39m\u001b[38;5;241m.\u001b[39m_reversed_padding_repeated_twice, mode\u001b[38;5;241m=\u001b[39m\u001b[38;5;28mself\u001b[39m\u001b[38;5;241m.\u001b[39mpadding_mode),\n\u001b[1;32m    440\u001b[0m                     weight, bias, \u001b[38;5;28mself\u001b[39m\u001b[38;5;241m.\u001b[39mstride,\n\u001b[1;32m    441\u001b[0m                     _pair(\u001b[38;5;241m0\u001b[39m), \u001b[38;5;28mself\u001b[39m\u001b[38;5;241m.\u001b[39mdilation, \u001b[38;5;28mself\u001b[39m\u001b[38;5;241m.\u001b[39mgroups)\n\u001b[0;32m--> 442\u001b[0m \u001b[38;5;28;01mreturn\u001b[39;00m \u001b[43mF\u001b[49m\u001b[38;5;241;43m.\u001b[39;49m\u001b[43mconv2d\u001b[49m\u001b[43m(\u001b[49m\u001b[38;5;28;43minput\u001b[39;49m\u001b[43m,\u001b[49m\u001b[43m \u001b[49m\u001b[43mweight\u001b[49m\u001b[43m,\u001b[49m\u001b[43m \u001b[49m\u001b[43mbias\u001b[49m\u001b[43m,\u001b[49m\u001b[43m \u001b[49m\u001b[38;5;28;43mself\u001b[39;49m\u001b[38;5;241;43m.\u001b[39;49m\u001b[43mstride\u001b[49m\u001b[43m,\u001b[49m\n\u001b[1;32m    443\u001b[0m \u001b[43m                \u001b[49m\u001b[38;5;28;43mself\u001b[39;49m\u001b[38;5;241;43m.\u001b[39;49m\u001b[43mpadding\u001b[49m\u001b[43m,\u001b[49m\u001b[43m \u001b[49m\u001b[38;5;28;43mself\u001b[39;49m\u001b[38;5;241;43m.\u001b[39;49m\u001b[43mdilation\u001b[49m\u001b[43m,\u001b[49m\u001b[43m \u001b[49m\u001b[38;5;28;43mself\u001b[39;49m\u001b[38;5;241;43m.\u001b[39;49m\u001b[43mgroups\u001b[49m\u001b[43m)\u001b[49m\n",
      "\u001b[0;31mKeyboardInterrupt\u001b[0m: "
     ]
    }
   ],
   "source": [
    "# Select loss criterion\n",
    "criterion = nn.CrossEntropyLoss()\n",
    "\n",
    "# create your optimizer\n",
    "optimizer = optim.Adam(network.parameters(), lr=0.001)\n",
    "\n",
    "# Setup learning rate scheduler\n",
    "scheduler = optim.lr_scheduler.ExponentialLR(optimizer, gamma=0.9)\n",
    "\n",
    "# Train the network\n",
    "num_epochs = 10\n",
    "\n",
    "# Store the loss\n",
    "stats = {\n",
    "    'train_accuracies': [],\n",
    "    'train_losses': [],\n",
    "    'val_accuracies': [],\n",
    "    'val_losses': []\n",
    "}\n",
    "\n",
    "for epoch in range(num_epochs): # loop over the dataset multiple times\n",
    "    running_loss = 0.0\n",
    "    correct = 0.0\n",
    "    total = 0.0\n",
    "    for i, data in enumerate(trainloader, 0):\n",
    "        # get the inputs; data is a list of [inputs, labels]\n",
    "        inputs, labels = data\n",
    "        inputs = inputs.float()\n",
    "        labels = labels.float()\n",
    "  \n",
    "        # forward pass\n",
    "        outputs = network(inputs)\n",
    "        \n",
    "        loss = criterion(outputs, labels)\n",
    "        \n",
    "\n",
    "        # backward + optimize\n",
    "        loss.backward() # backward to get gradient values\n",
    "        \n",
    "        optimizer.step() # does the update\n",
    "    \n",
    "        # zero the parameter gradients\n",
    "        optimizer.zero_grad()\n",
    "        \n",
    "        # accumulate loss\n",
    "        running_loss += loss.item()\n",
    "        \n",
    "        # Make prediction for batch\n",
    "        _, predicted = outputs.max(1)\n",
    "        \n",
    "        # Store accuracy for batch\n",
    "        # WE convert back from one-hot to integer for checking accuracy\n",
    "        total += labels.size(0)\n",
    "        correct += predicted.eq(torch.argmax(labels, dim=1)).sum().item()\n",
    "        \n",
    "    # Store accuracy,loss for epoch\n",
    "    train_loss=running_loss/len(trainloader)\n",
    "    train_accuracy=100.*correct/total\n",
    "    \n",
    "    # At the end of each epoch, calculate validation accuracy\n",
    "    \n",
    "    # Set the network in eval mode since we're not training here\n",
    "    network.eval()\n",
    "    \n",
    "     # Turn gradient computation off\n",
    "    with torch.no_grad():\n",
    "        val_accuracy, val_loss = validate(network, valloader, criterion)\n",
    "    \n",
    "    # Set the network back in training mode\n",
    "    network.train()\n",
    "    \n",
    "    stats['train_accuracies'].append(train_accuracy)\n",
    "    stats['train_losses'].append(train_loss)\n",
    "    stats['val_accuracies'].append(val_accuracy)\n",
    "    stats['val_losses'].append(val_loss)\n",
    "    \n",
    "    \n",
    "    # Display results\n",
    "    print(f'Epoch: {epoch}')\n",
    "    print(f'\\t -- Train Loss: {train_loss} | Train Accuracy: {train_accuracy}')\n",
    "    print(f'\\t -- Val Loss: {val_loss} | Val Accuracy: {val_accuracy}')\n",
    "    \n",
    "    # At the end of each epoch, schedule the learning rate decay\n",
    "    scheduler.step()"
   ]
  },
  {
   "cell_type": "code",
   "execution_count": 12,
   "metadata": {},
   "outputs": [
    {
     "name": "stderr",
     "output_type": "stream",
     "text": [
      "[W NNPACK.cpp:79] Could not initialize NNPACK! Reason: Unsupported hardware.\n"
     ]
    },
    {
     "name": "stdout",
     "output_type": "stream",
     "text": [
      "Accuracy of the network on the 443 test examples: 40.85778781038375 %\n"
     ]
    }
   ],
   "source": [
    "network.eval()\n",
    "outputs = None\n",
    "\n",
    " # Turn gradient computation off\n",
    "with torch.no_grad():\n",
    "    outputs = compute_test_outputs(network,testloader,y_test)\n",
    "    \n",
    "# Set the network back in training mode\n",
    "network.train()\n",
    "    \n",
    "    \n",
    "test_accuracy = test(outputs, mapToOriginal['y_test'])\n",
    "\n",
    "num_examples = mapToOriginal['y_test'].size\n",
    "\n",
    "\n",
    "print(f'Accuracy of the network on the {num_examples} test examples: {test_accuracy} %')"
   ]
  },
  {
   "cell_type": "markdown",
   "metadata": {},
   "source": [
    "### Optimizing Again\n",
    "\n",
    "However, after testing such an architecture, we find that it performs worse than the BasicCNN above.\n",
    "\n",
    "In that case, we turn to a new idea: Using the same BasicCNN architecture, but changing varying filter sizes and numbers, along with dropout probabilities as shown below:\n",
    "\n",
    "Since we are performing much worse on the test set than the train and validation set, we can assume that our model needs to generalize to unseen data better. Thus, we should explore a more aggressive dropout value. The above model does this:"
   ]
  },
  {
   "cell_type": "code",
   "execution_count": 33,
   "metadata": {},
   "outputs": [
    {
     "name": "stdout",
     "output_type": "stream",
     "text": [
      "OptimizedCNNV2(\n",
      "  (conv1): Conv2d(22, 25, kernel_size=(10, 1), stride=(1, 1), padding=same)\n",
      "  (pool1): MaxPool2d(kernel_size=(3, 1), stride=1, padding=(1, 0), dilation=1, ceil_mode=False)\n",
      "  (batchnorm1): BatchNorm2d(25, eps=1e-05, momentum=0.1, affine=True, track_running_stats=True)\n",
      "  (dropout1): Dropout(p=0.6, inplace=False)\n",
      "  (conv2): Conv2d(25, 50, kernel_size=(10, 1), stride=(1, 1), padding=same)\n",
      "  (pool2): MaxPool2d(kernel_size=(3, 1), stride=1, padding=(1, 0), dilation=1, ceil_mode=False)\n",
      "  (batchnorm2): BatchNorm2d(50, eps=1e-05, momentum=0.1, affine=True, track_running_stats=True)\n",
      "  (dropout2): Dropout(p=0.6, inplace=False)\n",
      "  (conv3): Conv2d(50, 100, kernel_size=(10, 1), stride=(1, 1), padding=same)\n",
      "  (pool3): MaxPool2d(kernel_size=(3, 1), stride=1, padding=(1, 0), dilation=1, ceil_mode=False)\n",
      "  (batchnorm3): BatchNorm2d(100, eps=1e-05, momentum=0.1, affine=True, track_running_stats=True)\n",
      "  (dropout3): Dropout(p=0.6, inplace=False)\n",
      "  (conv4): Conv2d(100, 200, kernel_size=(10, 1), stride=(1, 1), padding=same)\n",
      "  (pool4): MaxPool2d(kernel_size=(3, 1), stride=1, padding=(1, 0), dilation=1, ceil_mode=False)\n",
      "  (batchnorm4): BatchNorm2d(200, eps=1e-05, momentum=0.1, affine=True, track_running_stats=True)\n",
      "  (dropout4): Dropout(p=0.6, inplace=False)\n",
      "  (affine): Linear(in_features=50000, out_features=4, bias=True)\n",
      ")\n"
     ]
    }
   ],
   "source": [
    "# Initialize the network\n",
    "network = OptimizedCNNV2(dropout=0.6)\n",
    "print(network)"
   ]
  },
  {
   "cell_type": "code",
   "execution_count": 34,
   "metadata": {},
   "outputs": [
    {
     "name": "stdout",
     "output_type": "stream",
     "text": [
      "Epoch: 0\n",
      "\t -- Train Loss: 3.3448479788019023 | Train Accuracy: 36.5948275862069\n",
      "\t -- Val Loss: 3.936804632345835 | Val Accuracy: 33.266666666666666\n",
      "Epoch: 1\n",
      "\t -- Train Loss: 3.791455459157261 | Train Accuracy: 44.89942528735632\n",
      "\t -- Val Loss: 3.4451233943303428 | Val Accuracy: 42.333333333333336\n",
      "Epoch: 2\n",
      "\t -- Train Loss: 3.117615513845321 | Train Accuracy: 51.910919540229884\n",
      "\t -- Val Loss: 3.5258830785751343 | Val Accuracy: 48.13333333333333\n",
      "Epoch: 3\n",
      "\t -- Train Loss: 2.824068847052548 | Train Accuracy: 55.40229885057471\n",
      "\t -- Val Loss: 2.5542559574047723 | Val Accuracy: 52.6\n",
      "Epoch: 4\n",
      "\t -- Train Loss: 2.255259522604286 | Train Accuracy: 61.30747126436781\n",
      "\t -- Val Loss: 1.7741254170735676 | Val Accuracy: 60.4\n",
      "Epoch: 5\n",
      "\t -- Train Loss: 2.0331569735063324 | Train Accuracy: 62.98850574712644\n",
      "\t -- Val Loss: 2.6911876996358237 | Val Accuracy: 52.86666666666667\n",
      "Epoch: 6\n",
      "\t -- Train Loss: 1.8464201918435752 | Train Accuracy: 66.02011494252874\n",
      "\t -- Val Loss: 1.7625255386034648 | Val Accuracy: 56.53333333333333\n",
      "Epoch: 7\n",
      "\t -- Train Loss: 1.6757942930274052 | Train Accuracy: 67.44252873563218\n",
      "\t -- Val Loss: 2.353191708525022 | Val Accuracy: 52.0\n",
      "Epoch: 8\n",
      "\t -- Train Loss: 1.4333283906682917 | Train Accuracy: 70.28735632183908\n",
      "\t -- Val Loss: 2.7038501600424447 | Val Accuracy: 54.733333333333334\n",
      "Epoch: 9\n",
      "\t -- Train Loss: 1.379156284376022 | Train Accuracy: 71.25\n",
      "\t -- Val Loss: 2.122082238396009 | Val Accuracy: 57.06666666666667\n"
     ]
    }
   ],
   "source": [
    "# Select loss criterion\n",
    "criterion = nn.CrossEntropyLoss()\n",
    "\n",
    "# create your optimizer\n",
    "optimizer = optim.Adam(network.parameters(), lr=0.001)\n",
    "\n",
    "# Setup learning rate scheduler\n",
    "scheduler = optim.lr_scheduler.ExponentialLR(optimizer, gamma=0.9)\n",
    "\n",
    "# Train the network\n",
    "num_epochs = 10\n",
    "\n",
    "# Store the loss\n",
    "stats = {\n",
    "    'train_accuracies': [],\n",
    "    'train_losses': [],\n",
    "    'val_accuracies': [],\n",
    "    'val_losses': []\n",
    "}\n",
    "\n",
    "for epoch in range(num_epochs): # loop over the dataset multiple times\n",
    "    running_loss = 0.0\n",
    "    correct = 0.0\n",
    "    total = 0.0\n",
    "    for i, data in enumerate(trainloader, 0):\n",
    "        # get the inputs; data is a list of [inputs, labels]\n",
    "        inputs, labels = data\n",
    "        inputs = inputs.float()\n",
    "        labels = labels.float()\n",
    "  \n",
    "        # forward pass\n",
    "        outputs = network(inputs)\n",
    "        \n",
    "        loss = criterion(outputs, labels)\n",
    "        \n",
    "\n",
    "        # backward + optimize\n",
    "        loss.backward() # backward to get gradient values\n",
    "        \n",
    "        optimizer.step() # does the update\n",
    "    \n",
    "        # zero the parameter gradients\n",
    "        optimizer.zero_grad()\n",
    "        \n",
    "        # accumulate loss\n",
    "        running_loss += loss.item()\n",
    "        \n",
    "        # Make prediction for batch\n",
    "        _, predicted = outputs.max(1)\n",
    "        \n",
    "        # Store accuracy for batch\n",
    "        # WE convert back from one-hot to integer for checking accuracy\n",
    "        total += labels.size(0)\n",
    "        correct += predicted.eq(torch.argmax(labels, dim=1)).sum().item()\n",
    "        \n",
    "    # Store accuracy,loss for epoch\n",
    "    train_loss=running_loss/len(trainloader)\n",
    "    train_accuracy=100.*correct/total\n",
    "    \n",
    "    # At the end of each epoch, calculate validation accuracy\n",
    "    \n",
    "    # Set the network in eval mode since we're not training here\n",
    "    network.eval()\n",
    "    \n",
    "     # Turn gradient computation off\n",
    "    with torch.no_grad():\n",
    "        val_accuracy, val_loss = validate(network, valloader, criterion)\n",
    "    \n",
    "    # Set the network back in training mode\n",
    "    network.train()\n",
    "    \n",
    "    stats['train_accuracies'].append(train_accuracy)\n",
    "    stats['train_losses'].append(train_loss)\n",
    "    stats['val_accuracies'].append(val_accuracy)\n",
    "    stats['val_losses'].append(val_loss)\n",
    "    \n",
    "    \n",
    "    # Display results\n",
    "    print(f'Epoch: {epoch}')\n",
    "    print(f'\\t -- Train Loss: {train_loss} | Train Accuracy: {train_accuracy}')\n",
    "    print(f'\\t -- Val Loss: {val_loss} | Val Accuracy: {val_accuracy}')\n",
    "    \n",
    "    # At the end of each epoch, schedule the learning rate decay\n",
    "    scheduler.step()"
   ]
  },
  {
   "cell_type": "code",
   "execution_count": 32,
   "metadata": {},
   "outputs": [
    {
     "name": "stdout",
     "output_type": "stream",
     "text": [
      "Accuracy of the network on the 443 test examples: 25.056433408577877 %\n"
     ]
    }
   ],
   "source": [
    "network.eval()\n",
    "outputs = None\n",
    "\n",
    " # Turn gradient computation off\n",
    "with torch.no_grad():\n",
    "    outputs = compute_test_outputs(network,testloader,y_test)\n",
    "    \n",
    "# Set the network back in training mode\n",
    "network.train()\n",
    "    \n",
    "    \n",
    "test_accuracy = test(outputs, mapToOriginal['y_test'])\n",
    "\n",
    "num_examples = mapToOriginal['y_test'].size\n",
    "\n",
    "\n",
    "print(f'Accuracy of the network on the {num_examples} test examples: {test_accuracy} %')"
   ]
  },
  {
   "cell_type": "markdown",
   "metadata": {},
   "source": [
    "Clearly, the aggressive dropout value does not seem to work. Let us now try changing the convolutional filter size"
   ]
  },
  {
   "cell_type": "code",
   "execution_count": 36,
   "metadata": {},
   "outputs": [
    {
     "name": "stdout",
     "output_type": "stream",
     "text": [
      "OptimizedCNNV2(\n",
      "  (conv1): Conv2d(22, 25, kernel_size=(20, 1), stride=(1, 1), padding=same)\n",
      "  (pool1): MaxPool2d(kernel_size=(3, 1), stride=1, padding=(1, 0), dilation=1, ceil_mode=False)\n",
      "  (batchnorm1): BatchNorm2d(25, eps=1e-05, momentum=0.1, affine=True, track_running_stats=True)\n",
      "  (dropout1): Dropout(p=0.4, inplace=False)\n",
      "  (conv2): Conv2d(25, 50, kernel_size=(20, 1), stride=(1, 1), padding=same)\n",
      "  (pool2): MaxPool2d(kernel_size=(3, 1), stride=1, padding=(1, 0), dilation=1, ceil_mode=False)\n",
      "  (batchnorm2): BatchNorm2d(50, eps=1e-05, momentum=0.1, affine=True, track_running_stats=True)\n",
      "  (dropout2): Dropout(p=0.4, inplace=False)\n",
      "  (conv3): Conv2d(50, 100, kernel_size=(20, 1), stride=(1, 1), padding=same)\n",
      "  (pool3): MaxPool2d(kernel_size=(3, 1), stride=1, padding=(1, 0), dilation=1, ceil_mode=False)\n",
      "  (batchnorm3): BatchNorm2d(100, eps=1e-05, momentum=0.1, affine=True, track_running_stats=True)\n",
      "  (dropout3): Dropout(p=0.4, inplace=False)\n",
      "  (conv4): Conv2d(100, 200, kernel_size=(20, 1), stride=(1, 1), padding=same)\n",
      "  (pool4): MaxPool2d(kernel_size=(3, 1), stride=1, padding=(1, 0), dilation=1, ceil_mode=False)\n",
      "  (batchnorm4): BatchNorm2d(200, eps=1e-05, momentum=0.1, affine=True, track_running_stats=True)\n",
      "  (dropout4): Dropout(p=0.4, inplace=False)\n",
      "  (affine): Linear(in_features=50000, out_features=4, bias=True)\n",
      ")\n"
     ]
    }
   ],
   "source": [
    "network = OptimizedCNNV2(dropout=0.4, filter_size = (20,1))\n",
    "print(network)"
   ]
  },
  {
   "cell_type": "code",
   "execution_count": 37,
   "metadata": {},
   "outputs": [
    {
     "name": "stdout",
     "output_type": "stream",
     "text": [
      "Epoch: 0\n",
      "\t -- Train Loss: 3.7248429409954524 | Train Accuracy: 37.42816091954023\n",
      "\t -- Val Loss: 3.0248947739601135 | Val Accuracy: 40.666666666666664\n",
      "Epoch: 1\n",
      "\t -- Train Loss: 2.826133613192707 | Train Accuracy: 50.67528735632184\n",
      "\t -- Val Loss: 2.754539499680201 | Val Accuracy: 49.4\n",
      "Epoch: 2\n",
      "\t -- Train Loss: 2.000901311909387 | Train Accuracy: 60.79022988505747\n",
      "\t -- Val Loss: 1.693855106830597 | Val Accuracy: 62.46666666666667\n",
      "Epoch: 3\n",
      "\t -- Train Loss: 1.3590182645605244 | Train Accuracy: 69.55459770114942\n",
      "\t -- Val Loss: 1.1361853207151096 | Val Accuracy: 70.73333333333333\n",
      "Epoch: 4\n",
      "\t -- Train Loss: 1.0640239805803386 | Train Accuracy: 75.47413793103448\n",
      "\t -- Val Loss: 1.1719834382335346 | Val Accuracy: 70.53333333333333\n",
      "Epoch: 5\n",
      "\t -- Train Loss: 0.7456813836043034 | Train Accuracy: 81.02011494252874\n",
      "\t -- Val Loss: 0.6136873755604029 | Val Accuracy: 82.73333333333333\n",
      "Epoch: 6\n",
      "\t -- Train Loss: 0.5266175070487031 | Train Accuracy: 84.94252873563218\n",
      "\t -- Val Loss: 0.4612935396532218 | Val Accuracy: 85.13333333333334\n",
      "Epoch: 7\n",
      "\t -- Train Loss: 0.4576059871037072 | Train Accuracy: 86.95402298850574\n",
      "\t -- Val Loss: 0.4385887148479621 | Val Accuracy: 86.93333333333334\n",
      "Epoch: 8\n",
      "\t -- Train Loss: 0.35014931420120626 | Train Accuracy: 89.39655172413794\n",
      "\t -- Val Loss: 0.2704994510859251 | Val Accuracy: 92.13333333333334\n",
      "Epoch: 9\n",
      "\t -- Train Loss: 0.2447361615101952 | Train Accuracy: 92.5\n",
      "\t -- Val Loss: 0.19918819734205803 | Val Accuracy: 93.4\n"
     ]
    }
   ],
   "source": [
    "# Select loss criterion\n",
    "criterion = nn.CrossEntropyLoss()\n",
    "\n",
    "# create your optimizer\n",
    "optimizer = optim.Adam(network.parameters(), lr=0.001)\n",
    "\n",
    "# Setup learning rate scheduler\n",
    "scheduler = optim.lr_scheduler.ExponentialLR(optimizer, gamma=0.9)\n",
    "\n",
    "# Train the network\n",
    "num_epochs = 10\n",
    "\n",
    "# Store the loss\n",
    "stats = {\n",
    "    'train_accuracies': [],\n",
    "    'train_losses': [],\n",
    "    'val_accuracies': [],\n",
    "    'val_losses': []\n",
    "}\n",
    "\n",
    "for epoch in range(num_epochs): # loop over the dataset multiple times\n",
    "    running_loss = 0.0\n",
    "    correct = 0.0\n",
    "    total = 0.0\n",
    "    for i, data in enumerate(trainloader, 0):\n",
    "        # get the inputs; data is a list of [inputs, labels]\n",
    "        inputs, labels = data\n",
    "        inputs = inputs.float()\n",
    "        labels = labels.float()\n",
    "  \n",
    "        # forward pass\n",
    "        outputs = network(inputs)\n",
    "        \n",
    "        loss = criterion(outputs, labels)\n",
    "        \n",
    "\n",
    "        # backward + optimize\n",
    "        loss.backward() # backward to get gradient values\n",
    "        \n",
    "        optimizer.step() # does the update\n",
    "    \n",
    "        # zero the parameter gradients\n",
    "        optimizer.zero_grad()\n",
    "        \n",
    "        # accumulate loss\n",
    "        running_loss += loss.item()\n",
    "        \n",
    "        # Make prediction for batch\n",
    "        _, predicted = outputs.max(1)\n",
    "        \n",
    "        # Store accuracy for batch\n",
    "        # WE convert back from one-hot to integer for checking accuracy\n",
    "        total += labels.size(0)\n",
    "        correct += predicted.eq(torch.argmax(labels, dim=1)).sum().item()\n",
    "        \n",
    "    # Store accuracy,loss for epoch\n",
    "    train_loss=running_loss/len(trainloader)\n",
    "    train_accuracy=100.*correct/total\n",
    "    \n",
    "    # At the end of each epoch, calculate validation accuracy\n",
    "    \n",
    "    # Set the network in eval mode since we're not training here\n",
    "    network.eval()\n",
    "    \n",
    "     # Turn gradient computation off\n",
    "    with torch.no_grad():\n",
    "        val_accuracy, val_loss = validate(network, valloader, criterion)\n",
    "    \n",
    "    # Set the network back in training mode\n",
    "    network.train()\n",
    "    \n",
    "    stats['train_accuracies'].append(train_accuracy)\n",
    "    stats['train_losses'].append(train_loss)\n",
    "    stats['val_accuracies'].append(val_accuracy)\n",
    "    stats['val_losses'].append(val_loss)\n",
    "    \n",
    "    \n",
    "    # Display results\n",
    "    print(f'Epoch: {epoch}')\n",
    "    print(f'\\t -- Train Loss: {train_loss} | Train Accuracy: {train_accuracy}')\n",
    "    print(f'\\t -- Val Loss: {val_loss} | Val Accuracy: {val_accuracy}')\n",
    "    \n",
    "    # At the end of each epoch, schedule the learning rate decay\n",
    "    scheduler.step()"
   ]
  },
  {
   "cell_type": "code",
   "execution_count": 38,
   "metadata": {},
   "outputs": [
    {
     "name": "stdout",
     "output_type": "stream",
     "text": [
      "Accuracy of the network on the 443 test examples: 54.176072234762984 %\n"
     ]
    }
   ],
   "source": [
    "network.eval()\n",
    "outputs = None\n",
    "\n",
    " # Turn gradient computation off\n",
    "with torch.no_grad():\n",
    "    outputs = compute_test_outputs(network,testloader,y_test)\n",
    "    \n",
    "# Set the network back in training mode\n",
    "network.train()\n",
    "    \n",
    "    \n",
    "test_accuracy = test(outputs, mapToOriginal['y_test'])\n",
    "\n",
    "num_examples = mapToOriginal['y_test'].size\n",
    "\n",
    "\n",
    "print(f'Accuracy of the network on the {num_examples} test examples: {test_accuracy} %')"
   ]
  },
  {
   "cell_type": "markdown",
   "metadata": {},
   "source": [
    "This network performs about as well as our initial basic network. Let's now try decreasing the convolutional filter size, and increasing the depth of our network. (to maintain the same receptive field)"
   ]
  },
  {
   "cell_type": "code",
   "execution_count": 47,
   "metadata": {},
   "outputs": [
    {
     "name": "stdout",
     "output_type": "stream",
     "text": [
      "DeepCNN(\n",
      "  (conv1): Conv2d(22, 25, kernel_size=(5, 1), stride=(1, 1), padding=same)\n",
      "  (pool1): MaxPool2d(kernel_size=(3, 1), stride=1, padding=(1, 0), dilation=1, ceil_mode=False)\n",
      "  (batchnorm1): BatchNorm2d(25, eps=1e-05, momentum=0.1, affine=True, track_running_stats=True)\n",
      "  (dropout1): Dropout(p=0.4, inplace=False)\n",
      "  (conv2): Conv2d(25, 50, kernel_size=(5, 1), stride=(1, 1), padding=same)\n",
      "  (pool2): MaxPool2d(kernel_size=(3, 1), stride=1, padding=(1, 0), dilation=1, ceil_mode=False)\n",
      "  (batchnorm2): BatchNorm2d(50, eps=1e-05, momentum=0.1, affine=True, track_running_stats=True)\n",
      "  (dropout2): Dropout(p=0.4, inplace=False)\n",
      "  (conv3): Conv2d(50, 100, kernel_size=(5, 1), stride=(1, 1), padding=same)\n",
      "  (pool3): MaxPool2d(kernel_size=(3, 1), stride=1, padding=(1, 0), dilation=1, ceil_mode=False)\n",
      "  (batchnorm3): BatchNorm2d(100, eps=1e-05, momentum=0.1, affine=True, track_running_stats=True)\n",
      "  (dropout3): Dropout(p=0.4, inplace=False)\n",
      "  (conv4): Conv2d(100, 200, kernel_size=(5, 1), stride=(1, 1), padding=same)\n",
      "  (pool4): MaxPool2d(kernel_size=(3, 1), stride=1, padding=(1, 0), dilation=1, ceil_mode=False)\n",
      "  (batchnorm4): BatchNorm2d(200, eps=1e-05, momentum=0.1, affine=True, track_running_stats=True)\n",
      "  (dropout4): Dropout(p=0.4, inplace=False)\n",
      "  (conv5): Conv2d(200, 150, kernel_size=(5, 1), stride=(1, 1), padding=same)\n",
      "  (pool5): MaxPool2d(kernel_size=(3, 1), stride=1, padding=(1, 0), dilation=1, ceil_mode=False)\n",
      "  (batchnorm5): BatchNorm2d(150, eps=1e-05, momentum=0.1, affine=True, track_running_stats=True)\n",
      "  (dropout5): Dropout(p=0.4, inplace=False)\n",
      "  (conv6): Conv2d(150, 50, kernel_size=(5, 1), stride=(1, 1), padding=same)\n",
      "  (pool6): MaxPool2d(kernel_size=(3, 1), stride=1, padding=(1, 0), dilation=1, ceil_mode=False)\n",
      "  (batchnorm6): BatchNorm2d(50, eps=1e-05, momentum=0.1, affine=True, track_running_stats=True)\n",
      "  (dropout6): Dropout(p=0.4, inplace=False)\n",
      "  (affine): Linear(in_features=12500, out_features=4, bias=True)\n",
      ")\n"
     ]
    }
   ],
   "source": [
    "network = DeepCNN(dropout=0.4, filter_size = (5,1))\n",
    "print(network)"
   ]
  },
  {
   "cell_type": "code",
   "execution_count": 48,
   "metadata": {},
   "outputs": [
    {
     "name": "stdout",
     "output_type": "stream",
     "text": [
      "Epoch: 0\n",
      "\t -- Train Loss: 1.6492772058609428 | Train Accuracy: 40.60344827586207\n",
      "\t -- Val Loss: 1.2389489139119785 | Val Accuracy: 47.46666666666667\n",
      "Epoch: 1\n",
      "\t -- Train Loss: 1.3457449723821167 | Train Accuracy: 55.201149425287355\n",
      "\t -- Val Loss: 1.3005520502726238 | Val Accuracy: 49.4\n",
      "Epoch: 2\n",
      "\t -- Train Loss: 1.0438917328458313 | Train Accuracy: 63.160919540229884\n",
      "\t -- Val Loss: 1.1931135058403015 | Val Accuracy: 52.53333333333333\n",
      "Epoch: 3\n",
      "\t -- Train Loss: 0.8821134583665691 | Train Accuracy: 69.066091954023\n",
      "\t -- Val Loss: 0.8955751533309618 | Val Accuracy: 62.86666666666667\n",
      "Epoch: 4\n",
      "\t -- Train Loss: 0.699154916979851 | Train Accuracy: 74.18103448275862\n",
      "\t -- Val Loss: 0.7968036358555158 | Val Accuracy: 69.53333333333333\n",
      "Epoch: 5\n",
      "\t -- Train Loss: 0.5880448974053795 | Train Accuracy: 77.77298850574712\n",
      "\t -- Val Loss: 0.6987029674152533 | Val Accuracy: 73.2\n",
      "Epoch: 6\n",
      "\t -- Train Loss: 0.5064953859519521 | Train Accuracy: 81.16379310344827\n",
      "\t -- Val Loss: 0.6284670444826285 | Val Accuracy: 74.13333333333334\n",
      "Epoch: 7\n",
      "\t -- Train Loss: 0.4482110051113531 | Train Accuracy: 83.2183908045977\n",
      "\t -- Val Loss: 0.6232262750466665 | Val Accuracy: 74.73333333333333\n",
      "Epoch: 8\n",
      "\t -- Train Loss: 0.39188598834593363 | Train Accuracy: 85.1580459770115\n",
      "\t -- Val Loss: 0.4671938878794511 | Val Accuracy: 81.46666666666667\n",
      "Epoch: 9\n",
      "\t -- Train Loss: 0.36729744814951487 | Train Accuracy: 86.12068965517241\n",
      "\t -- Val Loss: 0.5277232403556505 | Val Accuracy: 79.86666666666666\n"
     ]
    }
   ],
   "source": [
    "# Select loss criterion\n",
    "criterion = nn.CrossEntropyLoss()\n",
    "\n",
    "# create your optimizer\n",
    "optimizer = optim.Adam(network.parameters(), lr=0.001)\n",
    "\n",
    "# Setup learning rate scheduler\n",
    "scheduler = optim.lr_scheduler.ExponentialLR(optimizer, gamma=0.9)\n",
    "\n",
    "# Train the network\n",
    "num_epochs = 10\n",
    "\n",
    "# Store the loss\n",
    "stats = {\n",
    "    'train_accuracies': [],\n",
    "    'train_losses': [],\n",
    "    'val_accuracies': [],\n",
    "    'val_losses': []\n",
    "}\n",
    "\n",
    "for epoch in range(num_epochs): # loop over the dataset multiple times\n",
    "    running_loss = 0.0\n",
    "    correct = 0.0\n",
    "    total = 0.0\n",
    "    for i, data in enumerate(trainloader, 0):\n",
    "        # get the inputs; data is a list of [inputs, labels]\n",
    "        inputs, labels = data\n",
    "        inputs = inputs.float()\n",
    "        labels = labels.float()\n",
    "  \n",
    "        # forward pass\n",
    "        outputs = network(inputs)\n",
    "        \n",
    "        loss = criterion(outputs, labels)\n",
    "        \n",
    "\n",
    "        # backward + optimize\n",
    "        loss.backward() # backward to get gradient values\n",
    "        \n",
    "        optimizer.step() # does the update\n",
    "    \n",
    "        # zero the parameter gradients\n",
    "        optimizer.zero_grad()\n",
    "        \n",
    "        # accumulate loss\n",
    "        running_loss += loss.item()\n",
    "        \n",
    "        # Make prediction for batch\n",
    "        _, predicted = outputs.max(1)\n",
    "        \n",
    "        # Store accuracy for batch\n",
    "        # WE convert back from one-hot to integer for checking accuracy\n",
    "        total += labels.size(0)\n",
    "        correct += predicted.eq(torch.argmax(labels, dim=1)).sum().item()\n",
    "        \n",
    "    # Store accuracy,loss for epoch\n",
    "    train_loss=running_loss/len(trainloader)\n",
    "    train_accuracy=100.*correct/total\n",
    "    \n",
    "    # At the end of each epoch, calculate validation accuracy\n",
    "    \n",
    "    # Set the network in eval mode since we're not training here\n",
    "    network.eval()\n",
    "    \n",
    "     # Turn gradient computation off\n",
    "    with torch.no_grad():\n",
    "        val_accuracy, val_loss = validate(network, valloader, criterion)\n",
    "    \n",
    "    # Set the network back in training mode\n",
    "    network.train()\n",
    "    \n",
    "    stats['train_accuracies'].append(train_accuracy)\n",
    "    stats['train_losses'].append(train_loss)\n",
    "    stats['val_accuracies'].append(val_accuracy)\n",
    "    stats['val_losses'].append(val_loss)\n",
    "    \n",
    "    \n",
    "    # Display results\n",
    "    print(f'Epoch: {epoch}')\n",
    "    print(f'\\t -- Train Loss: {train_loss} | Train Accuracy: {train_accuracy}')\n",
    "    print(f'\\t -- Val Loss: {val_loss} | Val Accuracy: {val_accuracy}')\n",
    "    \n",
    "    # At the end of each epoch, schedule the learning rate decay\n",
    "    scheduler.step()"
   ]
  },
  {
   "cell_type": "code",
   "execution_count": 49,
   "metadata": {},
   "outputs": [
    {
     "name": "stdout",
     "output_type": "stream",
     "text": [
      "Accuracy of the network on the 443 test examples: 54.85327313769752 %\n"
     ]
    }
   ],
   "source": [
    "network.eval()\n",
    "outputs = None\n",
    "\n",
    " # Turn gradient computation off\n",
    "with torch.no_grad():\n",
    "    outputs = compute_test_outputs(network,testloader,y_test)\n",
    "    \n",
    "# Set the network back in training mode\n",
    "network.train()\n",
    "    \n",
    "    \n",
    "test_accuracy = test(outputs, mapToOriginal['y_test'])\n",
    "\n",
    "num_examples = mapToOriginal['y_test'].size\n",
    "\n",
    "\n",
    "print(f'Accuracy of the network on the {num_examples} test examples: {test_accuracy} %')"
   ]
  },
  {
   "cell_type": "markdown",
   "metadata": {},
   "source": [
    "Even this deeper CNN with smaller filter size does not perform better than the original Basic CNN. At this point, we concede that the Basic CNN architecture is the most suitable out of all the ones we tested, and we vary its number of filters and learning rate in an attempt to achieve even greater performance."
   ]
  },
  {
   "cell_type": "code",
   "execution_count": 10,
   "metadata": {},
   "outputs": [
    {
     "name": "stdout",
     "output_type": "stream",
     "text": [
      "VariableFiltersCNN(\n",
      "  (conv1): Conv2d(22, 50, kernel_size=(10, 1), stride=(1, 1), padding=same)\n",
      "  (pool1): MaxPool2d(kernel_size=(3, 1), stride=1, padding=(1, 0), dilation=1, ceil_mode=False)\n",
      "  (batchnorm1): BatchNorm2d(50, eps=1e-05, momentum=0.1, affine=True, track_running_stats=True)\n",
      "  (dropout1): Dropout(p=0.4, inplace=False)\n",
      "  (conv2): Conv2d(50, 100, kernel_size=(10, 1), stride=(1, 1), padding=same)\n",
      "  (pool2): MaxPool2d(kernel_size=(3, 1), stride=1, padding=(1, 0), dilation=1, ceil_mode=False)\n",
      "  (batchnorm2): BatchNorm2d(100, eps=1e-05, momentum=0.1, affine=True, track_running_stats=True)\n",
      "  (dropout2): Dropout(p=0.4, inplace=False)\n",
      "  (conv3): Conv2d(100, 200, kernel_size=(10, 1), stride=(1, 1), padding=same)\n",
      "  (pool3): MaxPool2d(kernel_size=(3, 1), stride=1, padding=(1, 0), dilation=1, ceil_mode=False)\n",
      "  (batchnorm3): BatchNorm2d(200, eps=1e-05, momentum=0.1, affine=True, track_running_stats=True)\n",
      "  (dropout3): Dropout(p=0.4, inplace=False)\n",
      "  (conv4): Conv2d(200, 250, kernel_size=(10, 1), stride=(1, 1), padding=same)\n",
      "  (pool4): MaxPool2d(kernel_size=(3, 1), stride=1, padding=(1, 0), dilation=1, ceil_mode=False)\n",
      "  (batchnorm4): BatchNorm2d(250, eps=1e-05, momentum=0.1, affine=True, track_running_stats=True)\n",
      "  (dropout4): Dropout(p=0.4, inplace=False)\n",
      "  (affine): Linear(in_features=62500, out_features=4, bias=True)\n",
      ")\n"
     ]
    }
   ],
   "source": [
    "network = VariableFiltersCNN(filters=[50,100,200,250])\n",
    "print(network)"
   ]
  },
  {
   "cell_type": "code",
   "execution_count": 13,
   "metadata": {},
   "outputs": [
    {
     "name": "stdout",
     "output_type": "stream",
     "text": [
      "Epoch: 0\n",
      "\t -- Train Loss: 3.0755797919877077 | Train Accuracy: 56.22126436781609\n",
      "\t -- Val Loss: 1.963074008623759 | Val Accuracy: 60.733333333333334\n",
      "Epoch: 1\n",
      "\t -- Train Loss: 2.8278079962511673 | Train Accuracy: 64.89942528735632\n",
      "\t -- Val Loss: 2.5242406179507575 | Val Accuracy: 68.2\n",
      "Epoch: 2\n",
      "\t -- Train Loss: 1.5940576332424758 | Train Accuracy: 76.19252873563218\n",
      "\t -- Val Loss: 1.1014363082746665 | Val Accuracy: 80.53333333333333\n",
      "Epoch: 3\n",
      "\t -- Train Loss: 0.8575210496099717 | Train Accuracy: 85.43103448275862\n",
      "\t -- Val Loss: 0.6017377520911396 | Val Accuracy: 86.4\n",
      "Epoch: 4\n",
      "\t -- Train Loss: 0.6627640864307728 | Train Accuracy: 87.61494252873563\n",
      "\t -- Val Loss: 0.7136821721990904 | Val Accuracy: 85.6\n",
      "Epoch: 5\n",
      "\t -- Train Loss: 0.37825643156714944 | Train Accuracy: 92.55747126436782\n",
      "\t -- Val Loss: 0.454383901009957 | Val Accuracy: 90.66666666666667\n",
      "Epoch: 6\n",
      "\t -- Train Loss: 0.22429401890605416 | Train Accuracy: 95.01436781609195\n",
      "\t -- Val Loss: 0.2379183537462571 | Val Accuracy: 93.86666666666666\n",
      "Epoch: 7\n",
      "\t -- Train Loss: 0.20316952373191646 | Train Accuracy: 95.11494252873563\n",
      "\t -- Val Loss: 0.23656040461113056 | Val Accuracy: 95.0\n",
      "Epoch: 8\n",
      "\t -- Train Loss: 0.16092561325485552 | Train Accuracy: 96.03448275862068\n",
      "\t -- Val Loss: 0.13598920693038963 | Val Accuracy: 97.33333333333333\n",
      "Epoch: 9\n",
      "\t -- Train Loss: 0.12532478374260297 | Train Accuracy: 96.68103448275862\n",
      "\t -- Val Loss: 0.16029670006476712 | Val Accuracy: 96.6\n"
     ]
    }
   ],
   "source": [
    "# Select loss criterion\n",
    "criterion = nn.CrossEntropyLoss()\n",
    "\n",
    "# create your optimizer\n",
    "optimizer = optim.Adam(network.parameters(), lr=0.001)\n",
    "\n",
    "# Setup learning rate scheduler\n",
    "scheduler = optim.lr_scheduler.ExponentialLR(optimizer, gamma=0.9)\n",
    "\n",
    "# Train the network\n",
    "num_epochs = 10\n",
    "\n",
    "# Store the loss\n",
    "stats = {\n",
    "    'train_accuracies': [],\n",
    "    'train_losses': [],\n",
    "    'val_accuracies': [],\n",
    "    'val_losses': []\n",
    "}\n",
    "\n",
    "for epoch in range(num_epochs): # loop over the dataset multiple times\n",
    "    running_loss = 0.0\n",
    "    correct = 0.0\n",
    "    total = 0.0\n",
    "    for i, data in enumerate(trainloader, 0):\n",
    "        # get the inputs; data is a list of [inputs, labels]\n",
    "        inputs, labels = data\n",
    "        inputs = inputs.float()\n",
    "        labels = labels.float()\n",
    "  \n",
    "        # forward pass\n",
    "        outputs = network(inputs)\n",
    "        \n",
    "        loss = criterion(outputs, labels)\n",
    "        \n",
    "\n",
    "        # backward + optimize\n",
    "        loss.backward() # backward to get gradient values\n",
    "        \n",
    "        optimizer.step() # does the update\n",
    "    \n",
    "        # zero the parameter gradients\n",
    "        optimizer.zero_grad()\n",
    "        \n",
    "        # accumulate loss\n",
    "        running_loss += loss.item()\n",
    "        \n",
    "        # Make prediction for batch\n",
    "        _, predicted = outputs.max(1)\n",
    "        \n",
    "        # Store accuracy for batch\n",
    "        # WE convert back from one-hot to integer for checking accuracy\n",
    "        total += labels.size(0)\n",
    "        correct += predicted.eq(torch.argmax(labels, dim=1)).sum().item()\n",
    "        \n",
    "    # Store accuracy,loss for epoch\n",
    "    train_loss=running_loss/len(trainloader)\n",
    "    train_accuracy=100.*correct/total\n",
    "    \n",
    "    # At the end of each epoch, calculate validation accuracy\n",
    "    \n",
    "    # Set the network in eval mode since we're not training here\n",
    "    network.eval()\n",
    "    \n",
    "     # Turn gradient computation off\n",
    "    with torch.no_grad():\n",
    "        val_accuracy, val_loss = validate(network, valloader, criterion)\n",
    "    \n",
    "    # Set the network back in training mode\n",
    "    network.train()\n",
    "    \n",
    "    stats['train_accuracies'].append(train_accuracy)\n",
    "    stats['train_losses'].append(train_loss)\n",
    "    stats['val_accuracies'].append(val_accuracy)\n",
    "    stats['val_losses'].append(val_loss)\n",
    "    \n",
    "    \n",
    "    # Display results\n",
    "    print(f'Epoch: {epoch}')\n",
    "    print(f'\\t -- Train Loss: {train_loss} | Train Accuracy: {train_accuracy}')\n",
    "    print(f'\\t -- Val Loss: {val_loss} | Val Accuracy: {val_accuracy}')\n",
    "    \n",
    "    # At the end of each epoch, schedule the learning rate decay\n",
    "    scheduler.step()"
   ]
  },
  {
   "cell_type": "code",
   "execution_count": 14,
   "metadata": {},
   "outputs": [
    {
     "name": "stdout",
     "output_type": "stream",
     "text": [
      "Accuracy of the network on the 443 test examples: 59.14221218961625 %\n"
     ]
    }
   ],
   "source": [
    "# Set the network in eval mode since we're not training here\n",
    "\n",
    "network.eval()\n",
    "outputs = None\n",
    "\n",
    " # Turn gradient computation off\n",
    "with torch.no_grad():\n",
    "    outputs = compute_test_outputs(network,testloader,y_test)\n",
    "    \n",
    "# Set the network back in training mode\n",
    "network.train()\n",
    "    \n",
    "    \n",
    "test_accuracy = test(outputs, mapToOriginal['y_test'])\n",
    "\n",
    "num_examples = mapToOriginal['y_test'].size\n",
    "\n",
    "\n",
    "print(f'Accuracy of the network on the {num_examples} test examples: {test_accuracy} %')"
   ]
  },
  {
   "cell_type": "markdown",
   "metadata": {},
   "source": [
    "This is the best network we've seen so far. It gets an accuracy slightly better than the next best CNN so far (BasicCNN), even though it trains for half the epochs. \n",
    "\n",
    "If we wanted, we could get much higher accuracy on this network by training for longer, but this would require a high amount of compute resources, and potentially a GPU. The large number of filters in each layer means training a batch takes a much larger amount of time than Basic CNN."
   ]
  },
  {
   "cell_type": "markdown",
   "metadata": {},
   "source": [
    "### Plot training curves"
   ]
  },
  {
   "cell_type": "code",
   "execution_count": 15,
   "metadata": {},
   "outputs": [
    {
     "data": {
      "image/png": "[encoded data removed]",
      "text/plain": [
       "<Figure size 432x288 with 1 Axes>"
      ]
     },
     "metadata": {
      "needs_background": "light"
     },
     "output_type": "display_data"
    },
    {
     "data": {
      "image/png": "[encoded data removed]",
      "text/plain": [
       "<Figure size 432x288 with 1 Axes>"
      ]
     },
     "metadata": {
      "needs_background": "light"
     },
     "output_type": "display_data"
    }
   ],
   "source": [
    "plt.figure()\n",
    "plt.plot(np.arange(num_epochs), stats['train_losses'], label='Training')\n",
    "plt.plot(np.arange(num_epochs), stats['val_losses'], label='Validation')\n",
    "plt.xlabel('Epochs')\n",
    "plt.ylabel('Loss')\n",
    "plt.legend()\n",
    "plt.show()\n",
    "\n",
    "plt.figure()\n",
    "plt.plot(np.arange(num_epochs), stats['train_accuracies'], label='Training')\n",
    "plt.plot(np.arange(num_epochs), stats['val_accuracies'], label='Validation')\n",
    "plt.xlabel('Epochs')\n",
    "plt.ylabel('Accuracy')\n",
    "plt.legend()\n",
    "plt.show()"
   ]
  },
  {
   "cell_type": "markdown",
   "metadata": {},
   "source": [
    "### Conclusion\n",
    "\n",
    "The best network for this task is the VariableFiltersCNN with filters=[50,100,200,250]. Thus, working with the BasicCNN and incresing the number of filters is the best way to get high accuracy on this dataset. We still need to train for a large number of epochs, though.\n",
    "\n",
    "However, there is still going to be a discrepancy between the accuracy on the train/validation and test sets. Increasing regularization through more aggressive dropout does not seem to help our network.\n",
    "\n",
    "In addition, experimenting with different learning rates might help our model, but since we use Batch Normalization and Xavier Initializations, our model should be more resistant to changes in learning rate.\n",
    "\n",
    "Finally, an idea to improve the test accuracy is to use more intensive preprocessing. A paper I found on preprocessing for EEG data, that was also used to preprocess data fro EEGNet, is here: \n",
    "\n",
    "https://www.frontiersin.org/articles/10.3389/fninf.2015.00016/full\n",
    "\n",
    "However, the code for the PREP pipeline is written is matlab, and given the time to complete the project, it was unfeasible to convert it to python."
   ]
  },
  {
   "cell_type": "markdown",
   "metadata": {},
   "source": [
    "### Save this model"
   ]
  },
  {
   "cell_type": "code",
   "execution_count": 5,
   "metadata": {},
   "outputs": [
    {
     "ename": "NameError",
     "evalue": "name 'network' is not defined",
     "output_type": "error",
     "traceback": [
      "\u001b[0;31m---------------------------------------------------------------------------\u001b[0m",
      "\u001b[0;31mNameError\u001b[0m                                 Traceback (most recent call last)",
      "Input \u001b[0;32mIn [5]\u001b[0m, in \u001b[0;36m<cell line: 3>\u001b[0;34m()\u001b[0m\n\u001b[1;32m      1\u001b[0m path \u001b[38;5;241m=\u001b[39m \u001b[38;5;124m\"\u001b[39m\u001b[38;5;124msaved-models/VariableFiltersCNN.pth\u001b[39m\u001b[38;5;124m\"\u001b[39m\n\u001b[1;32m      2\u001b[0m state \u001b[38;5;241m=\u001b[39m {\n\u001b[1;32m      3\u001b[0m     \u001b[38;5;124m'\u001b[39m\u001b[38;5;124mepoch\u001b[39m\u001b[38;5;124m'\u001b[39m: \u001b[38;5;241m9\u001b[39m,\n\u001b[0;32m----> 4\u001b[0m     \u001b[38;5;124m'\u001b[39m\u001b[38;5;124mstate_dict\u001b[39m\u001b[38;5;124m'\u001b[39m: \u001b[43mnetwork\u001b[49m\u001b[38;5;241m.\u001b[39mstate_dict(),\n\u001b[1;32m      5\u001b[0m     \u001b[38;5;124m'\u001b[39m\u001b[38;5;124moptimizer\u001b[39m\u001b[38;5;124m'\u001b[39m: optimizer\u001b[38;5;241m.\u001b[39mstate_dict(),\n\u001b[1;32m      6\u001b[0m }\n\u001b[1;32m      7\u001b[0m torch\u001b[38;5;241m.\u001b[39msave(state, path)\n",
      "\u001b[0;31mNameError\u001b[0m: name 'network' is not defined"
     ]
    }
   ],
   "source": [
    "path = \"saved-models/VariableFiltersCNN.pth\"\n",
    "state = {\n",
    "    'epoch': 9,\n",
    "    'state_dict': network.state_dict(),\n",
    "    'optimizer': optimizer.state_dict(),\n",
    "}\n",
    "torch.save(state, path)"
   ]
  },
  {
   "cell_type": "markdown",
   "metadata": {},
   "source": [
    "# Training on Single Subject\n",
    " Now that we have trained over the entire dataset, let us instead try to train over one subject, using the models we have determined before. This will help us decide if optimizing a model architecture over the entire training set also optimizes it for a single subject."
   ]
  },
  {
   "cell_type": "markdown",
   "metadata": {},
   "source": [
    "### Training Function\n",
    "To avoid copying the training loop over and over again, we make a training function below"
   ]
  },
  {
   "cell_type": "code",
   "execution_count": 6,
   "metadata": {},
   "outputs": [],
   "source": [
    "def train(network,trainloader,valloader,testloader,y_test,original):\n",
    "    # Select loss criterion\n",
    "    criterion = nn.CrossEntropyLoss()\n",
    "\n",
    "    # create your optimizer\n",
    "    optimizer = optim.Adam(network.parameters(), lr=0.001)\n",
    "\n",
    "    # Setup learning rate scheduler\n",
    "    scheduler = optim.lr_scheduler.ExponentialLR(optimizer, gamma=0.9)\n",
    "\n",
    "    # Train the network\n",
    "    num_epochs = 10\n",
    "\n",
    "    # Store the loss\n",
    "    stats = {\n",
    "        'train_accuracies': [],\n",
    "        'train_losses': [],\n",
    "        'val_accuracies': [],\n",
    "        'val_losses': []\n",
    "    }\n",
    "\n",
    "    for epoch in range(num_epochs): # loop over the dataset multiple times\n",
    "        running_loss = 0.0\n",
    "        correct = 0.0\n",
    "        total = 0.0\n",
    "        for i, data in enumerate(trainloader, 0):\n",
    "            # get the inputs; data is a list of [inputs, labels]\n",
    "            inputs, labels = data\n",
    "            inputs = inputs.float()\n",
    "            labels = labels.float()\n",
    "\n",
    "            # forward pass\n",
    "            outputs = network(inputs)\n",
    "\n",
    "            loss = criterion(outputs, labels)\n",
    "\n",
    "\n",
    "            # backward + optimize\n",
    "            loss.backward() # backward to get gradient values\n",
    "\n",
    "            optimizer.step() # does the update\n",
    "\n",
    "            # zero the parameter gradients\n",
    "            optimizer.zero_grad()\n",
    "\n",
    "            # accumulate loss\n",
    "            running_loss += loss.item()\n",
    "\n",
    "            # Make prediction for batch\n",
    "            _, predicted = outputs.max(1)\n",
    "\n",
    "            # Store accuracy for batch\n",
    "            # WE convert back from one-hot to integer for checking accuracy\n",
    "            total += labels.size(0)\n",
    "            correct += predicted.eq(torch.argmax(labels, dim=1)).sum().item()\n",
    "\n",
    "        # Store accuracy,loss for epoch\n",
    "        train_loss=running_loss/len(trainloader)\n",
    "        train_accuracy=100.*correct/total\n",
    "\n",
    "        # At the end of each epoch, calculate validation accuracy\n",
    "\n",
    "        # Set the network in eval mode since we're not training here\n",
    "        network.eval()\n",
    "\n",
    "         # Turn gradient computation off\n",
    "        with torch.no_grad():\n",
    "            val_accuracy, val_loss = validate(network, valloader, criterion)\n",
    "\n",
    "        # Set the network back in training mode\n",
    "        network.train()\n",
    "\n",
    "        stats['train_accuracies'].append(train_accuracy)\n",
    "        stats['train_losses'].append(train_loss)\n",
    "        stats['val_accuracies'].append(val_accuracy)\n",
    "        stats['val_losses'].append(val_loss)\n",
    "\n",
    "\n",
    "        # Display results\n",
    "        print(f'Epoch: {epoch}')\n",
    "        print(f'\\t -- Train Loss: {train_loss} | Train Accuracy: {train_accuracy}')\n",
    "        print(f'\\t -- Val Loss: {val_loss} | Val Accuracy: {val_accuracy}')\n",
    "\n",
    "        # At the end of each epoch, schedule the learning rate decay\n",
    "        scheduler.step()\n",
    "        \n",
    "    # Compute the result on the test set\n",
    "    network.eval()\n",
    "    outputs = None\n",
    "\n",
    "     # Turn gradient computation off\n",
    "    with torch.no_grad():\n",
    "        outputs = compute_test_outputs(network,testloader,y_test)\n",
    "\n",
    "    # Set the network back in training mode\n",
    "    network.train()\n",
    "\n",
    "    test_accuracy = test(outputs, original['y_test'])\n",
    "\n",
    "    num_examples = original['y_test'].size\n",
    "\n",
    "\n",
    "    print(f'Accuracy of the network on the {num_examples} test examples: {test_accuracy} %')\n",
    "\n",
    "    return stats"
   ]
  },
  {
   "cell_type": "markdown",
   "metadata": {},
   "source": [
    "### Get Data For Subject 1"
   ]
  },
  {
   "cell_type": "code",
   "execution_count": 17,
   "metadata": {},
   "outputs": [
    {
     "name": "stdout",
     "output_type": "stream",
     "text": [
      "Training data shape: torch.Size([195, 22, 250, 1])\n",
      "Valid data shape: torch.Size([47, 22, 250, 1])\n",
      "Test data shape: torch.Size([200, 22, 250, 1])\n",
      "Training target shape: torch.Size([195, 4])\n",
      "Valid target shape: torch.Size([47, 4])\n",
      "Test target shape: torch.Size([200, 4])\n"
     ]
    }
   ],
   "source": [
    "X_train, y_train, X_valid, y_valid, X_test, y_test, original = getData(lib='torch', subject=[1])\n",
    "print('Training data shape: {}'.format(X_train.shape))\n",
    "print('Valid data shape: {}'.format(X_valid.shape))\n",
    "print('Test data shape: {}'.format(X_test.shape))\n",
    "\n",
    "print('Training target shape: {}'.format(y_train.shape))\n",
    "print('Valid target shape: {}'.format(y_valid.shape))\n",
    "print('Test target shape: {}'.format(y_test.shape))"
   ]
  },
  {
   "cell_type": "markdown",
   "metadata": {},
   "source": [
    "### Initialize Dataloaders"
   ]
  },
  {
   "cell_type": "code",
   "execution_count": 18,
   "metadata": {},
   "outputs": [],
   "source": [
    "batch_size=64\n",
    "trainset = torch.utils.data.TensorDataset(X_train,y_train)\n",
    "trainloader = torch.utils.data.DataLoader(trainset, batch_size=batch_size,\n",
    "                                          shuffle=True, num_workers=0)\n",
    "\n",
    "# Shuffle is set to false for validation and test sets since no training is done on them, all we do is evaluate.\n",
    "valset =  torch.utils.data.TensorDataset(X_valid, y_valid)\n",
    "valloader = torch.utils.data.DataLoader(valset, batch_size=batch_size,\n",
    "                                          shuffle=False, num_workers=0)\n",
    "\n",
    "testset = torch.utils.data.TensorDataset(X_test, y_test)\n",
    "testloader = torch.utils.data.DataLoader(testset, batch_size=1,\n",
    "                                          shuffle=False, num_workers=0)"
   ]
  },
  {
   "cell_type": "markdown",
   "metadata": {},
   "source": [
    "### Train BasicCNN"
   ]
  },
  {
   "cell_type": "code",
   "execution_count": 19,
   "metadata": {},
   "outputs": [
    {
     "name": "stdout",
     "output_type": "stream",
     "text": [
      "Epoch: 0\n",
      "\t -- Train Loss: 1.901903122663498 | Train Accuracy: 31.794871794871796\n",
      "\t -- Val Loss: 1.567372441291809 | Val Accuracy: 31.914893617021278\n",
      "Epoch: 1\n",
      "\t -- Train Loss: 1.532337635755539 | Train Accuracy: 61.02564102564103\n",
      "\t -- Val Loss: 2.1483118534088135 | Val Accuracy: 14.893617021276595\n",
      "Epoch: 2\n",
      "\t -- Train Loss: 0.8412402421236038 | Train Accuracy: 66.15384615384616\n",
      "\t -- Val Loss: 2.938992500305176 | Val Accuracy: 29.78723404255319\n",
      "Epoch: 3\n",
      "\t -- Train Loss: 0.9776134788990021 | Train Accuracy: 72.82051282051282\n",
      "\t -- Val Loss: 3.2597224712371826 | Val Accuracy: 31.914893617021278\n",
      "Epoch: 4\n",
      "\t -- Train Loss: 0.5207431279122829 | Train Accuracy: 80.51282051282051\n",
      "\t -- Val Loss: 4.28739070892334 | Val Accuracy: 38.297872340425535\n",
      "Epoch: 5\n",
      "\t -- Train Loss: 0.539712332203635 | Train Accuracy: 76.92307692307692\n",
      "\t -- Val Loss: 4.5871782302856445 | Val Accuracy: 29.78723404255319\n",
      "Epoch: 6\n",
      "\t -- Train Loss: 0.52094039414078 | Train Accuracy: 74.35897435897436\n",
      "\t -- Val Loss: 4.806315898895264 | Val Accuracy: 31.914893617021278\n",
      "Epoch: 7\n",
      "\t -- Train Loss: 0.3786505465977825 | Train Accuracy: 83.07692307692308\n",
      "\t -- Val Loss: 4.410066604614258 | Val Accuracy: 29.78723404255319\n",
      "Epoch: 8\n",
      "\t -- Train Loss: 0.2502058492973447 | Train Accuracy: 87.17948717948718\n",
      "\t -- Val Loss: 4.185645580291748 | Val Accuracy: 36.170212765957444\n",
      "Epoch: 9\n",
      "\t -- Train Loss: 0.6200382709503174 | Train Accuracy: 89.74358974358974\n",
      "\t -- Val Loss: 4.263232231140137 | Val Accuracy: 34.04255319148936\n",
      "Accuracy of the network on the 50 test examples: 4.514672686230249 %\n"
     ]
    }
   ],
   "source": [
    "network = BasicCNN()\n",
    "stats = train(network,trainloader,valloader,testloader,y_test,original)"
   ]
  },
  {
   "cell_type": "markdown",
   "metadata": {},
   "source": [
    "### Train Optimized CNN"
   ]
  },
  {
   "cell_type": "code",
   "execution_count": 24,
   "metadata": {},
   "outputs": [
    {
     "name": "stdout",
     "output_type": "stream",
     "text": [
      "Epoch: 0\n",
      "\t -- Train Loss: 23.43313166499138 | Train Accuracy: 22.564102564102566\n",
      "\t -- Val Loss: 6.3031487464904785 | Val Accuracy: 21.27659574468085\n",
      "Epoch: 1\n",
      "\t -- Train Loss: 18.049654006958008 | Train Accuracy: 22.564102564102566\n",
      "\t -- Val Loss: 21.03857421875 | Val Accuracy: 27.659574468085108\n",
      "Epoch: 2\n",
      "\t -- Train Loss: 13.302429676055908 | Train Accuracy: 37.94871794871795\n",
      "\t -- Val Loss: 25.5417423248291 | Val Accuracy: 19.148936170212767\n",
      "Epoch: 3\n",
      "\t -- Train Loss: 8.560121655464172 | Train Accuracy: 42.56410256410256\n",
      "\t -- Val Loss: 17.6361141204834 | Val Accuracy: 25.53191489361702\n",
      "Epoch: 4\n",
      "\t -- Train Loss: 8.43664026260376 | Train Accuracy: 37.94871794871795\n",
      "\t -- Val Loss: 11.0520601272583 | Val Accuracy: 29.78723404255319\n",
      "Epoch: 5\n",
      "\t -- Train Loss: 10.637623906135559 | Train Accuracy: 43.58974358974359\n",
      "\t -- Val Loss: 8.588160514831543 | Val Accuracy: 25.53191489361702\n",
      "Epoch: 6\n",
      "\t -- Train Loss: 6.039632618427277 | Train Accuracy: 41.02564102564103\n",
      "\t -- Val Loss: 6.076840877532959 | Val Accuracy: 25.53191489361702\n",
      "Epoch: 7\n",
      "\t -- Train Loss: 4.246083058475051 | Train Accuracy: 44.61538461538461\n",
      "\t -- Val Loss: 4.412679672241211 | Val Accuracy: 31.914893617021278\n",
      "Epoch: 8\n",
      "\t -- Train Loss: 6.128786742687225 | Train Accuracy: 46.15384615384615\n",
      "\t -- Val Loss: 4.002019882202148 | Val Accuracy: 27.659574468085108\n",
      "Epoch: 9\n",
      "\t -- Train Loss: 5.262905061244965 | Train Accuracy: 54.35897435897436\n",
      "\t -- Val Loss: 4.742060661315918 | Val Accuracy: 27.659574468085108\n",
      "Accuracy of the network on the 50 test examples: 2.9345372460496613 %\n"
     ]
    }
   ],
   "source": [
    "network = OptimizedCNN()\n",
    "stats = train(network,trainloader,valloader,testloader,y_test,original)"
   ]
  },
  {
   "cell_type": "markdown",
   "metadata": {},
   "source": [
    "### Train OptimizedCNNV2 with aggressive dropout"
   ]
  },
  {
   "cell_type": "code",
   "execution_count": 25,
   "metadata": {},
   "outputs": [
    {
     "name": "stdout",
     "output_type": "stream",
     "text": [
      "Epoch: 0\n",
      "\t -- Train Loss: 2.169916808605194 | Train Accuracy: 24.102564102564102\n",
      "\t -- Val Loss: 1.5259003639221191 | Val Accuracy: 31.914893617021278\n",
      "Epoch: 1\n",
      "\t -- Train Loss: 2.154381275177002 | Train Accuracy: 46.666666666666664\n",
      "\t -- Val Loss: 1.60586678981781 | Val Accuracy: 25.53191489361702\n",
      "Epoch: 2\n",
      "\t -- Train Loss: 1.2756003141403198 | Train Accuracy: 53.333333333333336\n",
      "\t -- Val Loss: 2.452341318130493 | Val Accuracy: 31.914893617021278\n",
      "Epoch: 3\n",
      "\t -- Train Loss: 1.8245906829833984 | Train Accuracy: 56.41025641025641\n",
      "\t -- Val Loss: 2.5956027507781982 | Val Accuracy: 29.78723404255319\n",
      "Epoch: 4\n",
      "\t -- Train Loss: 1.6935427784919739 | Train Accuracy: 50.256410256410255\n",
      "\t -- Val Loss: 2.309718608856201 | Val Accuracy: 27.659574468085108\n",
      "Epoch: 5\n",
      "\t -- Train Loss: 1.7540714740753174 | Train Accuracy: 54.35897435897436\n",
      "\t -- Val Loss: 3.3111207485198975 | Val Accuracy: 29.78723404255319\n",
      "Epoch: 6\n",
      "\t -- Train Loss: 1.7529536187648773 | Train Accuracy: 52.82051282051282\n",
      "\t -- Val Loss: 3.9349160194396973 | Val Accuracy: 25.53191489361702\n",
      "Epoch: 7\n",
      "\t -- Train Loss: 1.2899350970983505 | Train Accuracy: 53.84615384615385\n",
      "\t -- Val Loss: 4.616067409515381 | Val Accuracy: 29.78723404255319\n",
      "Epoch: 8\n",
      "\t -- Train Loss: 1.4543809294700623 | Train Accuracy: 53.84615384615385\n",
      "\t -- Val Loss: 5.642443656921387 | Val Accuracy: 31.914893617021278\n",
      "Epoch: 9\n",
      "\t -- Train Loss: 1.1069491058588028 | Train Accuracy: 66.15384615384616\n",
      "\t -- Val Loss: 5.527837753295898 | Val Accuracy: 31.914893617021278\n",
      "Accuracy of the network on the 50 test examples: 3.3860045146726865 %\n"
     ]
    }
   ],
   "source": [
    "network = OptimizedCNNV2(dropout=0.6)\n",
    "stats = train(network,trainloader,valloader,testloader,y_test,original)"
   ]
  },
  {
   "cell_type": "markdown",
   "metadata": {},
   "source": [
    "### Train OptimizedCNNV2 with larger convolutional filter"
   ]
  },
  {
   "cell_type": "code",
   "execution_count": 26,
   "metadata": {},
   "outputs": [
    {
     "name": "stdout",
     "output_type": "stream",
     "text": [
      "Epoch: 0\n",
      "\t -- Train Loss: 1.9180192351341248 | Train Accuracy: 30.256410256410255\n",
      "\t -- Val Loss: 1.6883116960525513 | Val Accuracy: 21.27659574468085\n",
      "Epoch: 1\n",
      "\t -- Train Loss: 2.5528873801231384 | Train Accuracy: 50.256410256410255\n",
      "\t -- Val Loss: 2.3009791374206543 | Val Accuracy: 19.148936170212767\n",
      "Epoch: 2\n",
      "\t -- Train Loss: 2.103111118078232 | Train Accuracy: 60.51282051282051\n",
      "\t -- Val Loss: 4.0171003341674805 | Val Accuracy: 17.02127659574468\n",
      "Epoch: 3\n",
      "\t -- Train Loss: 1.3703769650310278 | Train Accuracy: 57.43589743589744\n",
      "\t -- Val Loss: 5.223966598510742 | Val Accuracy: 25.53191489361702\n",
      "Epoch: 4\n",
      "\t -- Train Loss: 2.3081869184970856 | Train Accuracy: 51.282051282051285\n",
      "\t -- Val Loss: 4.2109856605529785 | Val Accuracy: 25.53191489361702\n",
      "Epoch: 5\n",
      "\t -- Train Loss: 1.0798646286129951 | Train Accuracy: 66.66666666666667\n",
      "\t -- Val Loss: 3.7970104217529297 | Val Accuracy: 34.04255319148936\n",
      "Epoch: 6\n",
      "\t -- Train Loss: 1.12257519364357 | Train Accuracy: 69.74358974358974\n",
      "\t -- Val Loss: 5.077014446258545 | Val Accuracy: 31.914893617021278\n",
      "Epoch: 7\n",
      "\t -- Train Loss: 1.0325349755585194 | Train Accuracy: 68.2051282051282\n",
      "\t -- Val Loss: 7.279452800750732 | Val Accuracy: 34.04255319148936\n",
      "Epoch: 8\n",
      "\t -- Train Loss: 0.7227676101028919 | Train Accuracy: 75.38461538461539\n",
      "\t -- Val Loss: 5.543062686920166 | Val Accuracy: 25.53191489361702\n",
      "Epoch: 9\n",
      "\t -- Train Loss: 0.7580567374825478 | Train Accuracy: 76.92307692307692\n",
      "\t -- Val Loss: 4.406835556030273 | Val Accuracy: 36.170212765957444\n",
      "Accuracy of the network on the 50 test examples: 4.740406320541761 %\n"
     ]
    }
   ],
   "source": [
    "network = OptimizedCNNV2(dropout=0.4, filter_size = (20,1))\n",
    "stats = train(network,trainloader,valloader,testloader,y_test,original)"
   ]
  },
  {
   "cell_type": "markdown",
   "metadata": {},
   "source": [
    "### DeepCNN"
   ]
  },
  {
   "cell_type": "code",
   "execution_count": 27,
   "metadata": {},
   "outputs": [
    {
     "name": "stdout",
     "output_type": "stream",
     "text": [
      "Epoch: 0\n",
      "\t -- Train Loss: 1.5814472138881683 | Train Accuracy: 22.05128205128205\n",
      "\t -- Val Loss: 1.4769355058670044 | Val Accuracy: 29.78723404255319\n",
      "Epoch: 1\n",
      "\t -- Train Loss: 1.177191972732544 | Train Accuracy: 49.23076923076923\n",
      "\t -- Val Loss: 1.9374945163726807 | Val Accuracy: 31.914893617021278\n",
      "Epoch: 2\n",
      "\t -- Train Loss: 1.2347363233566284 | Train Accuracy: 51.282051282051285\n",
      "\t -- Val Loss: 1.9495785236358643 | Val Accuracy: 31.914893617021278\n",
      "Epoch: 3\n",
      "\t -- Train Loss: 1.3504549264907837 | Train Accuracy: 53.333333333333336\n",
      "\t -- Val Loss: 1.6652377843856812 | Val Accuracy: 31.914893617021278\n",
      "Epoch: 4\n",
      "\t -- Train Loss: 1.0847207903862 | Train Accuracy: 54.87179487179487\n",
      "\t -- Val Loss: 1.8223068714141846 | Val Accuracy: 38.297872340425535\n",
      "Epoch: 5\n",
      "\t -- Train Loss: 1.0190753638744354 | Train Accuracy: 54.87179487179487\n",
      "\t -- Val Loss: 2.127650022506714 | Val Accuracy: 29.78723404255319\n",
      "Epoch: 6\n",
      "\t -- Train Loss: 1.248041808605194 | Train Accuracy: 58.46153846153846\n",
      "\t -- Val Loss: 1.9412500858306885 | Val Accuracy: 29.78723404255319\n",
      "Epoch: 7\n",
      "\t -- Train Loss: 0.9690820872783661 | Train Accuracy: 63.58974358974359\n",
      "\t -- Val Loss: 1.9070547819137573 | Val Accuracy: 34.04255319148936\n",
      "Epoch: 8\n",
      "\t -- Train Loss: 0.6843575574457645 | Train Accuracy: 68.2051282051282\n",
      "\t -- Val Loss: 1.8328969478607178 | Val Accuracy: 40.42553191489362\n",
      "Epoch: 9\n",
      "\t -- Train Loss: 1.1116978079080582 | Train Accuracy: 65.64102564102564\n",
      "\t -- Val Loss: 1.7672096490859985 | Val Accuracy: 36.170212765957444\n",
      "Accuracy of the network on the 50 test examples: 3.837471783295711 %\n"
     ]
    }
   ],
   "source": [
    "network = DeepCNN(dropout=0.4, filter_size = (5,1))\n",
    "stats = train(network,trainloader,valloader,testloader,y_test,original)"
   ]
  },
  {
   "cell_type": "markdown",
   "metadata": {},
   "source": [
    "### VariableFiltersCNN"
   ]
  },
  {
   "cell_type": "code",
   "execution_count": 29,
   "metadata": {},
   "outputs": [
    {
     "name": "stdout",
     "output_type": "stream",
     "text": [
      "Epoch: 0\n",
      "\t -- Train Loss: 2.3057503700256348 | Train Accuracy: 29.23076923076923\n",
      "\t -- Val Loss: 1.689765453338623 | Val Accuracy: 27.659574468085108\n",
      "Epoch: 1\n",
      "\t -- Train Loss: 1.8557667136192322 | Train Accuracy: 63.07692307692308\n",
      "\t -- Val Loss: 4.286262035369873 | Val Accuracy: 29.78723404255319\n",
      "Epoch: 2\n",
      "\t -- Train Loss: 1.187065945006907 | Train Accuracy: 61.53846153846154\n",
      "\t -- Val Loss: 4.9824934005737305 | Val Accuracy: 29.78723404255319\n",
      "Epoch: 3\n",
      "\t -- Train Loss: 2.203248620033264 | Train Accuracy: 65.12820512820512\n",
      "\t -- Val Loss: 4.915523529052734 | Val Accuracy: 34.04255319148936\n",
      "Epoch: 4\n",
      "\t -- Train Loss: 1.1948320865631104 | Train Accuracy: 63.07692307692308\n",
      "\t -- Val Loss: 5.770066738128662 | Val Accuracy: 27.659574468085108\n",
      "Epoch: 5\n",
      "\t -- Train Loss: 1.5614760592579842 | Train Accuracy: 62.56410256410256\n",
      "\t -- Val Loss: 6.147514343261719 | Val Accuracy: 34.04255319148936\n",
      "Epoch: 6\n",
      "\t -- Train Loss: 1.265513613820076 | Train Accuracy: 78.97435897435898\n",
      "\t -- Val Loss: 6.115288257598877 | Val Accuracy: 38.297872340425535\n",
      "Epoch: 7\n",
      "\t -- Train Loss: 0.7578859180212021 | Train Accuracy: 78.46153846153847\n",
      "\t -- Val Loss: 6.1619133949279785 | Val Accuracy: 42.5531914893617\n",
      "Epoch: 8\n",
      "\t -- Train Loss: 0.5768828522413969 | Train Accuracy: 82.05128205128206\n",
      "\t -- Val Loss: 5.756494522094727 | Val Accuracy: 40.42553191489362\n",
      "Epoch: 9\n",
      "\t -- Train Loss: 0.7746042013168335 | Train Accuracy: 78.97435897435898\n",
      "\t -- Val Loss: 5.857848644256592 | Val Accuracy: 38.297872340425535\n",
      "Accuracy of the network on the 50 test examples: 4.288939051918736 %\n"
     ]
    }
   ],
   "source": [
    "network = VariableFiltersCNN(filters=[50,100,200,250])\n",
    "stats = train(network,trainloader,valloader,testloader,y_test,original)"
   ]
  },
  {
   "cell_type": "markdown",
   "metadata": {},
   "source": [
    "### Conclusions\n",
    "\n",
    "These architectures perform very poorly when trained on only one subject's data. Determining an architecture by optimizing over the entire training set, does not produce an optimal architecture for training over one subject."
   ]
  },
  {
   "cell_type": "code",
   "execution_count": null,
   "metadata": {},
   "outputs": [],
   "source": []
  }
 ],
 "metadata": {
  "interpreter": {
   "hash": "31f2aee4e71d21fbe5cf8b01ff0e069b9275f58929596ceb00d14d90e3e16cd6"
  },
  "kernelspec": {
   "display_name": "Python 3 (ipykernel)",
   "language": "python",
   "name": "python3"
  },
  "language_info": {
   "codemirror_mode": {
    "name": "ipython",
    "version": 3
   },
   "file_extension": ".py",
   "mimetype": "text/x-python",
   "name": "python",
   "nbconvert_exporter": "python",
   "pygments_lexer": "ipython3",
   "version": "3.9.10"
  }
 },
 "nbformat": 4,
 "nbformat_minor": 2
}
