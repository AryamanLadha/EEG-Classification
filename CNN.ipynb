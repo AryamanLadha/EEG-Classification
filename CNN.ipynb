{
 "cells": [
  {
   "cell_type": "markdown",
   "metadata": {},
   "source": [
    "### Import Packages"
   ]
  },
  {
   "cell_type": "code",
   "execution_count": 37,
   "metadata": {},
   "outputs": [
    {
     "name": "stdout",
     "output_type": "stream",
     "text": [
      "The autoreload extension is already loaded. To reload it, use:\n",
      "  %reload_ext autoreload\n"
     ]
    }
   ],
   "source": [
    "import numpy as np\n",
    "import torch.optim as optim\n",
    "import torch\n",
    "import torch.nn as nn\n",
    "\n",
    "from utils.preprocess import getData\n",
    "from utils.validate import validate\n",
    "from networks.cnn import BasicCNN\n",
    "import matplotlib.pyplot as plt\n",
    "\n",
    "# for auto-reloading external modules\n",
    "# see http://stackoverflow.com/questions/1907993/autoreload-of-modules-in-ipython\n",
    "%load_ext autoreload\n",
    "%autoreload 2\n"
   ]
  },
  {
   "cell_type": "markdown",
   "metadata": {
    "collapsed": true
   },
   "source": [
    "### Load, Preprocess Data\n"
   ]
  },
  {
   "cell_type": "code",
   "execution_count": 38,
   "metadata": {},
   "outputs": [],
   "source": [
    "X_train, y_train, X_valid, y_valid, X_test, y_test, person_train, person_valid, person_test, mapToOriginal = getData(lib='torch')"
   ]
  },
  {
   "cell_type": "markdown",
   "metadata": {},
   "source": [
    "### Shape of data"
   ]
  },
  {
   "cell_type": "code",
   "execution_count": 39,
   "metadata": {},
   "outputs": [
    {
     "name": "stdout",
     "output_type": "stream",
     "text": [
      "Training data shape: torch.Size([6960, 22, 250, 1])\n",
      "Valid data shape: torch.Size([1500, 22, 250, 1])\n",
      "Test data shape: torch.Size([1772, 22, 250, 1])\n",
      "Training target shape: torch.Size([6960, 4])\n",
      "Valid target shape: torch.Size([1500, 4])\n",
      "Test target shape: torch.Size([1772, 4])\n",
      "Training Persons shape: torch.Size([6960, 1])\n",
      "Valid Persons shape: torch.Size([1500, 1])\n",
      "Test Persons shape: torch.Size([1772, 1])\n"
     ]
    }
   ],
   "source": [
    "print('Training data shape: {}'.format(X_train.shape))\n",
    "print('Valid data shape: {}'.format(X_valid.shape))\n",
    "print('Test data shape: {}'.format(X_test.shape))\n",
    "\n",
    "print('Training target shape: {}'.format(y_train.shape))\n",
    "print('Valid target shape: {}'.format(y_valid.shape))\n",
    "print('Test target shape: {}'.format(y_test.shape))\n",
    "\n",
    "print('Training Persons shape: {}'.format(person_train.shape))\n",
    "print('Valid Persons shape: {}'.format(person_valid.shape))\n",
    "print('Test Persons shape: {}'.format(person_test.shape))\n",
    "\n",
    "\n"
   ]
  },
  {
   "cell_type": "markdown",
   "metadata": {},
   "source": [
    "### Initialize Dataset and DataLoaders"
   ]
  },
  {
   "cell_type": "code",
   "execution_count": 11,
   "metadata": {},
   "outputs": [],
   "source": [
    "batch_size=64\n",
    "trainset = torch.utils.data.TensorDataset(X_train,y_train)\n",
    "trainloader = torch.utils.data.DataLoader(trainset, batch_size=batch_size,\n",
    "                                          shuffle=True, num_workers=0)\n",
    "\n",
    "# Shuffle is set to false for validation and test sets since no training is done on them, all we do is evaluate.\n",
    "valset =  torch.utils.data.TensorDataset(X_valid, y_valid)\n",
    "valloader = torch.utils.data.DataLoader(valset, batch_size=batch_size,\n",
    "                                          shuffle=False, num_workers=0)\n",
    "\n",
    "testset = torch.utils.data.TensorDataset(X_test, y_test)\n",
    "testloader = torch.utils.data.DataLoader(testset, batch_size=batch_size,\n",
    "                                          shuffle=False, num_workers=0)"
   ]
  },
  {
   "cell_type": "markdown",
   "metadata": {},
   "source": [
    "### Train a Convolutional Neural Network"
   ]
  },
  {
   "cell_type": "code",
   "execution_count": 12,
   "metadata": {},
   "outputs": [
    {
     "name": "stdout",
     "output_type": "stream",
     "text": [
      "BasicCNN(\n",
      "  (conv1): Conv2d(22, 25, kernel_size=(10, 1), stride=(1, 1), padding=same)\n",
      "  (pool1): MaxPool2d(kernel_size=(3, 1), stride=1, padding=(1, 0), dilation=1, ceil_mode=False)\n",
      "  (batchnorm1): BatchNorm2d(25, eps=1e-05, momentum=0.1, affine=True, track_running_stats=True)\n",
      "  (dropout1): Dropout(p=0.4, inplace=False)\n",
      "  (conv2): Conv2d(25, 50, kernel_size=(10, 1), stride=(1, 1), padding=same)\n",
      "  (pool2): MaxPool2d(kernel_size=(3, 1), stride=1, padding=(1, 0), dilation=1, ceil_mode=False)\n",
      "  (batchnorm2): BatchNorm2d(50, eps=1e-05, momentum=0.1, affine=True, track_running_stats=True)\n",
      "  (dropout2): Dropout(p=0.4, inplace=False)\n",
      "  (conv3): Conv2d(50, 100, kernel_size=(10, 1), stride=(1, 1), padding=same)\n",
      "  (pool3): MaxPool2d(kernel_size=(3, 1), stride=1, padding=(1, 0), dilation=1, ceil_mode=False)\n",
      "  (batchnorm3): BatchNorm2d(100, eps=1e-05, momentum=0.1, affine=True, track_running_stats=True)\n",
      "  (dropout3): Dropout(p=0.4, inplace=False)\n",
      "  (conv4): Conv2d(100, 200, kernel_size=(10, 1), stride=(1, 1), padding=same)\n",
      "  (pool4): MaxPool2d(kernel_size=(3, 1), stride=1, padding=(1, 0), dilation=1, ceil_mode=False)\n",
      "  (batchnorm4): BatchNorm2d(200, eps=1e-05, momentum=0.1, affine=True, track_running_stats=True)\n",
      "  (dropout4): Dropout(p=0.4, inplace=False)\n",
      "  (affine): Linear(in_features=50000, out_features=4, bias=True)\n",
      ")\n"
     ]
    }
   ],
   "source": [
    "# Initialize the network\n",
    "network = BasicCNN()\n",
    "print(network)"
   ]
  },
  {
   "cell_type": "code",
   "execution_count": 13,
   "metadata": {},
   "outputs": [
    {
     "name": "stdout",
     "output_type": "stream",
     "text": [
      "Epoch: 0\n",
      "\t -- Train Loss: 3.225303022139663 | Train Accuracy: 41.89655172413793\n",
      "\t -- Val Loss: 2.921672652165095 | Val Accuracy: 46.86666666666667\n",
      "Epoch: 1\n",
      "\t -- Train Loss: 2.727698183934623 | Train Accuracy: 56.508620689655174\n",
      "\t -- Val Loss: 1.3984571422139804 | Val Accuracy: 64.06666666666666\n",
      "Epoch: 2\n",
      "\t -- Train Loss: 2.1566477221086484 | Train Accuracy: 65.12931034482759\n",
      "\t -- Val Loss: 1.3841132546464603 | Val Accuracy: 69.73333333333333\n",
      "Epoch: 3\n",
      "\t -- Train Loss: 1.5795920890405637 | Train Accuracy: 71.92528735632185\n",
      "\t -- Val Loss: 1.1612528612216313 | Val Accuracy: 74.26666666666667\n",
      "Epoch: 4\n",
      "\t -- Train Loss: 1.2209781126691661 | Train Accuracy: 77.25574712643679\n",
      "\t -- Val Loss: 1.4357993677258492 | Val Accuracy: 71.86666666666666\n"
     ]
    }
   ],
   "source": [
    "# Select loss criterion\n",
    "criterion = nn.CrossEntropyLoss()\n",
    "\n",
    "# create your optimizer\n",
    "optimizer = optim.Adam(network.parameters(), lr=0.001)\n",
    "\n",
    "# Train the network\n",
    "num_epochs = 5\n",
    "\n",
    "# Store the loss\n",
    "stats = {\n",
    "    'train_accuracies': [],\n",
    "    'train_losses': [],\n",
    "    'val_accuracies': [],\n",
    "    'val_losses': []\n",
    "}\n",
    "\n",
    "for epoch in range(num_epochs): # loop over the dataset multiple times\n",
    "    running_loss = 0.0\n",
    "    correct = 0.0\n",
    "    total = 0.0\n",
    "    for i, data in enumerate(trainloader, 0):\n",
    "        # get the inputs; data is a list of [inputs, labels]\n",
    "        inputs, labels = data\n",
    "        inputs = inputs.float()\n",
    "        labels = labels.float()\n",
    "  \n",
    "        # forward pass\n",
    "        outputs = network(inputs)\n",
    "        \n",
    "        loss = criterion(outputs, labels)\n",
    "        \n",
    "\n",
    "        # backward + optimize\n",
    "        loss.backward() # backward to get gradient values\n",
    "        \n",
    "        optimizer.step() # does the update\n",
    "    \n",
    "        # zero the parameter gradients\n",
    "        optimizer.zero_grad()\n",
    "        \n",
    "        # accumulate loss\n",
    "        running_loss += loss.item()\n",
    "        \n",
    "        # Make prediction for batch\n",
    "        _, predicted = outputs.max(1)\n",
    "        \n",
    "        # Store accuracy for batch\n",
    "        # WE convert back from one-hot to integer for checking accuracy\n",
    "        total += labels.size(0)\n",
    "        correct += predicted.eq(torch.argmax(labels, dim=1)).sum().item()\n",
    "        \n",
    "    # Store accuracy,loss for epoch\n",
    "    train_loss=running_loss/len(trainloader)\n",
    "    train_accuracy=100.*correct/total\n",
    "    \n",
    "    # At the end of each epoch, calculate validation accuracy\n",
    "    \n",
    "    # Set the network in eval mode since we're not training here\n",
    "    network.eval()\n",
    "    \n",
    "     # Turn gradient computation off\n",
    "    with torch.no_grad():\n",
    "        val_accuracy, val_loss = validate(network, valloader, criterion)\n",
    "    \n",
    "    # Set the network back in training mode\n",
    "    network.train()\n",
    "    \n",
    "    stats['train_accuracies'].append(train_accuracy)\n",
    "    stats['train_losses'].append(train_loss)\n",
    "    stats['val_accuracies'].append(val_accuracy)\n",
    "    stats['val_losses'].append(val_loss)\n",
    "    \n",
    "    \n",
    "    # Display results\n",
    "    print(f'Epoch: {epoch}')\n",
    "    print(f'\\t -- Train Loss: {train_loss} | Train Accuracy: {train_accuracy}')\n",
    "    print(f'\\t -- Val Loss: {val_loss} | Val Accuracy: {val_accuracy}')"
   ]
  },
  {
   "cell_type": "markdown",
   "metadata": {},
   "source": [
    "### Plot training curves"
   ]
  },
  {
   "cell_type": "code",
   "execution_count": 16,
   "metadata": {},
   "outputs": [
    {
     "data": {
      "image/png": "[encoded data removed]",
      "text/plain": [
       "<Figure size 432x288 with 1 Axes>"
      ]
     },
     "metadata": {
      "needs_background": "light"
     },
     "output_type": "display_data"
    },
    {
     "data": {
      "image/png": "[encoded data removed]",
      "text/plain": [
       "<Figure size 432x288 with 1 Axes>"
      ]
     },
     "metadata": {
      "needs_background": "light"
     },
     "output_type": "display_data"
    }
   ],
   "source": [
    "plt.figure()\n",
    "plt.plot(np.arange(num_epochs), stats['train_losses'], label='Training')\n",
    "plt.plot(np.arange(num_epochs), stats['val_losses'], label='Validation')\n",
    "plt.xlabel('Epochs')\n",
    "plt.ylabel('Loss')\n",
    "plt.legend()\n",
    "plt.show()\n",
    "\n",
    "plt.figure()\n",
    "plt.plot(np.arange(num_epochs), stats['train_accuracies'], label='Training')\n",
    "plt.plot(np.arange(num_epochs), stats['val_accuracies'], label='Validation')\n",
    "plt.xlabel('Epochs')\n",
    "plt.ylabel('Accuracy')\n",
    "plt.legend()\n",
    "plt.show()"
   ]
  },
  {
   "cell_type": "markdown",
   "metadata": {},
   "source": [
    "### Evaluate on Test Set"
   ]
  },
  {
   "cell_type": "code",
   "execution_count": 17,
   "metadata": {},
   "outputs": [
    {
     "name": "stdout",
     "output_type": "stream",
     "text": [
      "Accuracy of the network on the 1772 test examples: 52.99097065462754 %\n"
     ]
    }
   ],
   "source": [
    "# Set the network in eval mode since we're not training here\n",
    "network.eval()\n",
    "\n",
    " # Turn gradient computation off\n",
    "with torch.no_grad():\n",
    "    test_accuracy, test_loss = validate(network, testloader, criterion)\n",
    "\n",
    "# Set the network back in training mode\n",
    "network.train()\n",
    "\n",
    "\n",
    "print(f'Accuracy of the network on the {len(testloader.dataset)} test examples: {test_accuracy} %')"
   ]
  },
  {
   "cell_type": "markdown",
   "metadata": {},
   "source": [
    "### Save the model for inference or further training"
   ]
  },
  {
   "cell_type": "code",
   "execution_count": 18,
   "metadata": {},
   "outputs": [],
   "source": [
    "path = \"saved-models/basicCNN1.pth\"\n",
    "state = {\n",
    "    'epoch': 5,\n",
    "    'state_dict': network.state_dict(),\n",
    "    'optimizer': optimizer.state_dict(),\n",
    "}\n",
    "torch.save(state, path)"
   ]
  },
  {
   "cell_type": "code",
   "execution_count": null,
   "metadata": {},
   "outputs": [],
   "source": []
  }
 ],
 "metadata": {
  "interpreter": {
   "hash": "31f2aee4e71d21fbe5cf8b01ff0e069b9275f58929596ceb00d14d90e3e16cd6"
  },
  "kernelspec": {
   "display_name": "Python 3 (ipykernel)",
   "language": "python",
   "name": "python3"
  },
  "language_info": {
   "codemirror_mode": {
    "name": "ipython",
    "version": 3
   },
   "file_extension": ".py",
   "mimetype": "text/x-python",
   "name": "python",
   "nbconvert_exporter": "python",
   "pygments_lexer": "ipython3",
   "version": "3.9.10"
  }
 },
 "nbformat": 4,
 "nbformat_minor": 2
}
