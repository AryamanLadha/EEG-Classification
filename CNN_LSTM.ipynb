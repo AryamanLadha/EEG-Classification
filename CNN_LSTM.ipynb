{
 "cells": [
  {
   "cell_type": "code",
   "execution_count": 960,
   "id": "4fc87785",
   "metadata": {},
   "outputs": [],
   "source": [
    "import numpy as np\n",
    "import torch\n",
    "from utils.preprocess import getData\n",
    "import matplotlib.pyplot as plt\n",
    "\n",
    "torch.set_default_tensor_type(torch.DoubleTensor)\n",
    "\n",
    "from nndl.LSTM_CNN import *\n",
    "from utils.validate import validate\n",
    "from utils.test_accuracy import test\n",
    "from utils.test_accuracy import compute_test_outputs"
   ]
  },
  {
   "cell_type": "code",
   "execution_count": 961,
   "id": "8b4e54b9",
   "metadata": {},
   "outputs": [],
   "source": [
    "def get_idxs(in_array, to_find):\n",
    "    \"\"\"Utility function for finding the positions of observations of one array in another an array.\n",
    "    Args:\n",
    "        in_array (array): Array in which to locate elements of to_find\n",
    "        to_find (array): Array of elements to locate in in_array\n",
    "    Returns:\n",
    "        TYPE: Indices of all elements of to_find in in_array\n",
    "    \"\"\"\n",
    "    targets = ([np.where(in_array == x) for x in to_find])\n",
    "    return np.squeeze(np.concatenate(targets, axis=1))"
   ]
  },
  {
   "cell_type": "markdown",
   "id": "c0e0f1ae",
   "metadata": {},
   "source": [
    "### Hyperparameters"
   ]
  },
  {
   "cell_type": "code",
   "execution_count": 962,
   "id": "da31a117",
   "metadata": {},
   "outputs": [],
   "source": [
    "\n",
    "batch_size=32\n",
    "num_epochs = 30 #30 \n",
    "learning_rate = 0.001 #0.001 lr\n",
    "BETAS   = (0.9, 0.999)\n",
    "EPS     = 1e-08\n",
    "decay = 0.001 #0.0005\n",
    "hidden_dim = 4 #number of features in hidden state\n",
    "layer_dim = 1 #number of stacked lstm layers\n"
   ]
  },
  {
   "cell_type": "code",
   "execution_count": 963,
   "id": "6341a4f8",
   "metadata": {},
   "outputs": [],
   "source": [
    "#X_train, y_train, X_valid, y_valid, X_test, y_test, person_train, person_valid, person_test, original = getData()\n",
    "X_train, y_train, X_valid, y_valid, X_test, y_test, person_train, person_valid, person_test, original = getData(lib='torch')"
   ]
  },
  {
   "cell_type": "markdown",
   "id": "e415866c",
   "metadata": {},
   "source": [
    "### Keep specific subjects"
   ]
  },
  {
   "cell_type": "code",
   "execution_count": 964,
   "id": "ccc75650",
   "metadata": {},
   "outputs": [],
   "source": [
    "idx_train = get_idxs(person_train, np.array([1]))[0]\n",
    "idx_test = get_idxs(person_test, np.array([1]))[0]\n",
    "X_train = X_train[idx_train,...]\n",
    "X_test = X_test[idx_test,...]\n",
    "y_train = y_train[idx_train,...]\n",
    "y_test = y_test[idx_test,...]"
   ]
  },
  {
   "cell_type": "markdown",
   "id": "4545feb5",
   "metadata": {},
   "source": [
    "### Input Reshaping"
   ]
  },
  {
   "cell_type": "code",
   "execution_count": 965,
   "id": "f26635b2",
   "metadata": {},
   "outputs": [],
   "source": [
    "X_train = torch.reshape(X_train, (X_train.shape[0], X_train.shape[1], X_train.shape[2]))\n",
    "X_valid= torch.reshape(X_valid, (X_valid.shape[0], X_valid.shape[1], X_valid.shape[2]))\n",
    "X_test= torch.reshape(X_test, (X_test.shape[0], X_test.shape[1], X_test.shape[2])) "
   ]
  },
  {
   "cell_type": "markdown",
   "id": "cb1a5bf9",
   "metadata": {},
   "source": [
    "### Initialize Dataset and Dataloaders"
   ]
  },
  {
   "cell_type": "code",
   "execution_count": 966,
   "id": "ec55f152",
   "metadata": {},
   "outputs": [],
   "source": [
    "trainset = torch.utils.data.TensorDataset(X_train,y_train)\n",
    "trainloader = torch.utils.data.DataLoader(trainset, batch_size=batch_size,\n",
    "                                          shuffle=True, num_workers=0)\n",
    "\n",
    "# Shuffle is set to false for validation and test sets since no training is done on them, all we do is evaluate.\n",
    "valset =  torch.utils.data.TensorDataset(X_valid, y_valid)\n",
    "valloader = torch.utils.data.DataLoader(valset, batch_size=batch_size,\n",
    "                                          shuffle=False, num_workers=0)\n",
    "\n",
    "testset = torch.utils.data.TensorDataset(X_test, y_test)\n",
    "testloader = torch.utils.data.DataLoader(testset, batch_size=1,\n",
    "                                          shuffle=False, num_workers=0)\n",
    "\n",
    "\n",
    "feature_dim = X_train.shape[2]#(X_train.shape[1],X_train.shape[2]) #number of features\n",
    "seq_dim = X_train.shape[1]\n",
    "\n",
    "\n",
    "input_dim = 22\n",
    "output_dim = 4 #number of output classes\n",
    "seq_dim = 250  # Number of steps to unroll\n",
    "\n",
    "#criterion = torch.nn.MSELoss()#torch.nn.L1Loss()\n",
    "criterion = nn.CrossEntropyLoss()\n"
   ]
  },
  {
   "cell_type": "markdown",
   "id": "75e801b5",
   "metadata": {},
   "source": [
    "### Train CNN+LSTM"
   ]
  },
  {
   "cell_type": "code",
   "execution_count": 967,
   "id": "6f425bc9",
   "metadata": {},
   "outputs": [
    {
     "name": "stdout",
     "output_type": "stream",
     "text": [
      "LSTM_CNN(\n",
      "  (conv1): Conv1d(22, 64, kernel_size=(5,), stride=(1,))\n",
      "  (conv2): Conv1d(64, 128, kernel_size=(5,), stride=(1,))\n",
      "  (conv3): Conv1d(128, 256, kernel_size=(5,), stride=(1,))\n",
      "  (lstm1): LSTM(238, 4)\n",
      "  (fc2): Linear(in_features=4, out_features=4, bias=True)\n",
      ")\n",
      "Epoch: 0\n",
      "\t -- Train Loss: 1.4059853887564007 | Train Accuracy: 26.013071895424837\n",
      "\t -- Val Loss: 1.4098151717846858 | Val Accuracy: 26.466666666666665\n",
      "Epoch: 1\n",
      "\t -- Train Loss: 1.3761437278628827 | Train Accuracy: 29.41176470588235\n",
      "\t -- Val Loss: 1.4073414875042363 | Val Accuracy: 25.6\n",
      "Epoch: 2\n",
      "\t -- Train Loss: 1.3652072397840331 | Train Accuracy: 27.58169934640523\n",
      "\t -- Val Loss: 1.403952553729039 | Val Accuracy: 25.133333333333333\n",
      "Epoch: 3\n",
      "\t -- Train Loss: 1.354647046177142 | Train Accuracy: 31.241830065359476\n",
      "\t -- Val Loss: 1.3983823197136167 | Val Accuracy: 27.733333333333334\n",
      "Epoch: 4\n",
      "\t -- Train Loss: 1.3441495910699668 | Train Accuracy: 36.07843137254902\n",
      "\t -- Val Loss: 1.3977428455186474 | Val Accuracy: 27.6\n",
      "Epoch: 5\n",
      "\t -- Train Loss: 1.3363453077929695 | Train Accuracy: 36.73202614379085\n",
      "\t -- Val Loss: 1.3949708726534924 | Val Accuracy: 28.466666666666665\n",
      "Epoch: 6\n",
      "\t -- Train Loss: 1.3201753711839828 | Train Accuracy: 38.95424836601307\n",
      "\t -- Val Loss: 1.3925030928224522 | Val Accuracy: 28.066666666666666\n",
      "Epoch: 7\n",
      "\t -- Train Loss: 1.3128490944835152 | Train Accuracy: 39.6078431372549\n",
      "\t -- Val Loss: 1.396364110998054 | Val Accuracy: 27.8\n",
      "Epoch: 8\n",
      "\t -- Train Loss: 1.2965681929905384 | Train Accuracy: 40.0\n",
      "\t -- Val Loss: 1.3916902615426658 | Val Accuracy: 28.333333333333332\n",
      "Epoch: 9\n",
      "\t -- Train Loss: 1.2863613915040275 | Train Accuracy: 41.43790849673203\n",
      "\t -- Val Loss: 1.392870971771236 | Val Accuracy: 28.933333333333334\n",
      "Epoch: 10\n",
      "\t -- Train Loss: 1.2730011962150736 | Train Accuracy: 41.830065359477125\n",
      "\t -- Val Loss: 1.3862009159087674 | Val Accuracy: 28.533333333333335\n",
      "Epoch: 11\n",
      "\t -- Train Loss: 1.2592612957101432 | Train Accuracy: 42.48366013071895\n",
      "\t -- Val Loss: 1.3803283531490136 | Val Accuracy: 29.266666666666666\n",
      "Epoch: 12\n",
      "\t -- Train Loss: 1.2438517555303312 | Train Accuracy: 43.790849673202615\n",
      "\t -- Val Loss: 1.3845009479854689 | Val Accuracy: 28.333333333333332\n",
      "Epoch: 13\n",
      "\t -- Train Loss: 1.2290335702265591 | Train Accuracy: 46.79738562091503\n",
      "\t -- Val Loss: 1.3833705386615678 | Val Accuracy: 30.666666666666668\n",
      "Epoch: 14\n",
      "\t -- Train Loss: 1.2163502810569977 | Train Accuracy: 49.01960784313726\n",
      "\t -- Val Loss: 1.381216902552848 | Val Accuracy: 31.333333333333332\n",
      "Epoch: 15\n",
      "\t -- Train Loss: 1.203543384315605 | Train Accuracy: 50.71895424836601\n",
      "\t -- Val Loss: 1.3791175447434962 | Val Accuracy: 31.6\n",
      "Epoch: 16\n",
      "\t -- Train Loss: 1.1965333501504627 | Train Accuracy: 50.849673202614376\n",
      "\t -- Val Loss: 1.383353513285699 | Val Accuracy: 31.266666666666666\n",
      "Epoch: 17\n",
      "\t -- Train Loss: 1.1887577474646303 | Train Accuracy: 52.810457516339866\n",
      "\t -- Val Loss: 1.3771430076697615 | Val Accuracy: 31.733333333333334\n",
      "Epoch: 18\n",
      "\t -- Train Loss: 1.1813397860810577 | Train Accuracy: 52.810457516339866\n",
      "\t -- Val Loss: 1.376837007615528 | Val Accuracy: 31.666666666666668\n",
      "Epoch: 19\n",
      "\t -- Train Loss: 1.1766993673227566 | Train Accuracy: 53.333333333333336\n",
      "\t -- Val Loss: 1.3757203077492612 | Val Accuracy: 31.866666666666667\n",
      "Epoch: 20\n",
      "\t -- Train Loss: 1.1713625721452714 | Train Accuracy: 55.032679738562095\n",
      "\t -- Val Loss: 1.3768868897606081 | Val Accuracy: 31.333333333333332\n",
      "Epoch: 21\n",
      "\t -- Train Loss: 1.1673427178052005 | Train Accuracy: 55.16339869281046\n",
      "\t -- Val Loss: 1.3752715664320008 | Val Accuracy: 31.6\n",
      "Epoch: 22\n",
      "\t -- Train Loss: 1.1630895549254958 | Train Accuracy: 56.07843137254902\n",
      "\t -- Val Loss: 1.3757185416048223 | Val Accuracy: 31.8\n",
      "Epoch: 23\n",
      "\t -- Train Loss: 1.1599203211627456 | Train Accuracy: 55.81699346405229\n",
      "\t -- Val Loss: 1.375641247232542 | Val Accuracy: 32.333333333333336\n",
      "Epoch: 24\n",
      "\t -- Train Loss: 1.1588951897348785 | Train Accuracy: 56.209150326797385\n",
      "\t -- Val Loss: 1.376427916877506 | Val Accuracy: 32.13333333333333\n",
      "Epoch: 25\n",
      "\t -- Train Loss: 1.1550724020033234 | Train Accuracy: 56.86274509803921\n",
      "\t -- Val Loss: 1.3747019749696434 | Val Accuracy: 31.733333333333334\n",
      "Epoch: 26\n",
      "\t -- Train Loss: 1.1551563976882344 | Train Accuracy: 56.07843137254902\n",
      "\t -- Val Loss: 1.374202511913164 | Val Accuracy: 31.533333333333335\n",
      "Epoch: 27\n",
      "\t -- Train Loss: 1.1480013170283552 | Train Accuracy: 57.12418300653595\n",
      "\t -- Val Loss: 1.3760856176238032 | Val Accuracy: 31.6\n",
      "Epoch: 28\n",
      "\t -- Train Loss: 1.152896613840802 | Train Accuracy: 56.470588235294116\n",
      "\t -- Val Loss: 1.3747761701704908 | Val Accuracy: 31.933333333333334\n",
      "Epoch: 29\n",
      "\t -- Train Loss: 1.1479729010965913 | Train Accuracy: 56.86274509803921\n",
      "\t -- Val Loss: 1.3738807227015262 | Val Accuracy: 31.933333333333334\n"
     ]
    }
   ],
   "source": [
    "model = LSTM_CNN(input_dim, hidden_dim, layer_dim, output_dim)\n",
    "#optimizer = torch.optim.SGD(model.parameters(), lr=learning_rate)\n",
    "optimizer = torch.optim.Adam(model.parameters(), lr=learning_rate, betas=BETAS, eps=EPS, weight_decay=decay)\n",
    "    \n",
    "# Setup learning rate scheduler\n",
    "scheduler = torch.optim.lr_scheduler.ExponentialLR(optimizer, gamma=0.9)\n",
    "    \n",
    "print(model)\n",
    "    \n",
    "stats = {\n",
    "'train_accuracies': [],\n",
    "'train_losses': [],\n",
    "'val_accuracies': [],\n",
    "'val_losses': []\n",
    "}\n",
    "for epoch in range(num_epochs): # loop over the dataset multiple times\n",
    "    running_loss = 0.0\n",
    "    correct = 0.0\n",
    "    total = 0.0\n",
    "    for i, data in enumerate(trainloader, 0):\n",
    "        # get the inputs; data is a list of [inputs, labels]\n",
    "        inputs, labels = data\n",
    "        #inputs = inputs.float()\n",
    "        #labels = labels.float()\n",
    "        inputs = inputs.float()\n",
    "        labels = labels.float()\n",
    "      \n",
    "        outputs = model.forward(inputs.double()) #forward pass\n",
    "        \n",
    "            \n",
    "           \n",
    "            \n",
    "        # obtain the loss function\n",
    "          \n",
    "        #loss = criterion(outputs.double(), labels.double())\n",
    "        loss = criterion(outputs, labels)\n",
    "    \n",
    "        loss.backward() #calculates the loss of the loss function\n",
    "    \n",
    "        optimizer.step() #improve from loss, i.e backprop\n",
    "        optimizer.zero_grad() #caluclate the gradient, manually setting to 0  \n",
    "        \n",
    "        # accumulate loss\n",
    "        running_loss += loss.item()\n",
    "            \n",
    "        # Make prediction for batch\n",
    "        _, predicted = outputs.max(1)\n",
    "            \n",
    "        # Store accuracy for batch\n",
    "        # WE convert back from one-hot to integer for checking accuracy\n",
    "            \n",
    "        #print(predicted.shape)\n",
    "        #print(torch.argmax(labels, dim=1).shape)\n",
    "        total += labels.size(0)\n",
    "        correct += predicted.eq(torch.argmax(labels, dim=1)).sum().item()\n",
    "            \n",
    "    # Store accuracy,loss for epoch\n",
    "    train_loss=running_loss/len(trainloader)\n",
    "    train_accuracy=100.*correct/total\n",
    "        \n",
    "    # At the end of each epoch, calculate validation accuracy\n",
    "        \n",
    "    # Set the network in eval mode since we're not training here\n",
    "    model.eval()\n",
    "        \n",
    "    # Turn gradient computation off\n",
    "    with torch.no_grad():\n",
    "        val_accuracy, val_loss = validate(model, valloader, criterion)\n",
    "        \n",
    "    # Set the network back in training mode\n",
    "    model.train()\n",
    "        \n",
    "    stats['train_accuracies'].append(train_accuracy)\n",
    "    stats['train_losses'].append(train_loss)\n",
    "    stats['val_accuracies'].append(val_accuracy)\n",
    "    stats['val_losses'].append(val_loss)\n",
    "        \n",
    "        \n",
    "    # Display results\n",
    "    print(f'Epoch: {epoch}')\n",
    "    print(f'\\t -- Train Loss: {train_loss} | Train Accuracy: {train_accuracy}')\n",
    "    print(f'\\t -- Val Loss: {val_loss} | Val Accuracy: {val_accuracy}')\n",
    "        \n",
    "    # At the end of each epoch, schedule the learning rate decay\n",
    "    scheduler.step()"
   ]
  },
  {
   "cell_type": "markdown",
   "id": "bbe069fa",
   "metadata": {},
   "source": [
    "### Plots"
   ]
  },
  {
   "cell_type": "code",
   "execution_count": 968,
   "id": "79fa7e99",
   "metadata": {},
   "outputs": [
    {
     "data": {
      "image/png": "[encoded data removed]",
      "text/plain": [
       "<Figure size 432x288 with 1 Axes>"
      ]
     },
     "metadata": {
      "needs_background": "light"
     },
     "output_type": "display_data"
    },
    {
     "data": {
      "image/png": "[encoded data removed]",
      "text/plain": [
       "<Figure size 432x288 with 1 Axes>"
      ]
     },
     "metadata": {
      "needs_background": "light"
     },
     "output_type": "display_data"
    }
   ],
   "source": [
    "plt.figure()\n",
    "plt.plot(np.arange(num_epochs), stats['train_losses'], label='Training')\n",
    "plt.plot(np.arange(num_epochs), stats['val_losses'], label='Validation')\n",
    "plt.xlabel('Epochs')\n",
    "plt.ylabel('Loss')\n",
    "plt.legend()\n",
    "plt.show()\n",
    "\n",
    "plt.figure()\n",
    "plt.plot(np.arange(num_epochs), stats['train_accuracies'], label='Training')\n",
    "plt.plot(np.arange(num_epochs), stats['val_accuracies'], label='Validation')\n",
    "plt.xlabel('Epochs')\n",
    "plt.ylabel('Accuracy')\n",
    "plt.legend()\n",
    "plt.show()"
   ]
  },
  {
   "cell_type": "code",
   "execution_count": 877,
   "id": "cc25c27c",
   "metadata": {},
   "outputs": [
    {
     "ename": "RuntimeError",
     "evalue": "shape '[4, -1]' is invalid for input of size 50",
     "output_type": "error",
     "traceback": [
      "\u001b[1;31m---------------------------------------------------------------------------\u001b[0m",
      "\u001b[1;31mRuntimeError\u001b[0m                              Traceback (most recent call last)",
      "Input \u001b[1;32mIn [877]\u001b[0m, in \u001b[0;36m<cell line: 14>\u001b[1;34m()\u001b[0m\n\u001b[0;32m     10\u001b[0m \u001b[38;5;66;03m# Set the network back in training mode\u001b[39;00m\n\u001b[0;32m     11\u001b[0m model\u001b[38;5;241m.\u001b[39mtrain()\n\u001b[1;32m---> 14\u001b[0m test_accuracy \u001b[38;5;241m=\u001b[39m \u001b[43mtest\u001b[49m\u001b[43m(\u001b[49m\u001b[43moutputs\u001b[49m\u001b[43m,\u001b[49m\u001b[43m \u001b[49m\u001b[43moriginal\u001b[49m\u001b[43m[\u001b[49m\u001b[38;5;124;43m'\u001b[39;49m\u001b[38;5;124;43my_test\u001b[39;49m\u001b[38;5;124;43m'\u001b[39;49m\u001b[43m]\u001b[49m\u001b[43m)\u001b[49m\n\u001b[0;32m     16\u001b[0m num_examples \u001b[38;5;241m=\u001b[39m original[\u001b[38;5;124m'\u001b[39m\u001b[38;5;124my_test\u001b[39m\u001b[38;5;124m'\u001b[39m]\u001b[38;5;241m.\u001b[39msize\n\u001b[0;32m     19\u001b[0m \u001b[38;5;28mprint\u001b[39m(\u001b[38;5;124mf\u001b[39m\u001b[38;5;124m'\u001b[39m\u001b[38;5;124mAccuracy of the network on the \u001b[39m\u001b[38;5;132;01m{\u001b[39;00mnum_examples\u001b[38;5;132;01m}\u001b[39;00m\u001b[38;5;124m test examples: \u001b[39m\u001b[38;5;132;01m{\u001b[39;00mtest_accuracy\u001b[38;5;132;01m}\u001b[39;00m\u001b[38;5;124m %\u001b[39m\u001b[38;5;124m'\u001b[39m)\n",
      "File \u001b[1;32m~\\Desktop\\HW\\UCLA\\C247\\Final Project\\utils\\test_accuracy.py:16\u001b[0m, in \u001b[0;36mtest\u001b[1;34m(outputs, y_test_original)\u001b[0m\n\u001b[0;32m     13\u001b[0m _, predictions \u001b[38;5;241m=\u001b[39m outputs\u001b[38;5;241m.\u001b[39mmax(\u001b[38;5;241m1\u001b[39m)\n\u001b[0;32m     15\u001b[0m \u001b[38;5;66;03m# Take the majority prediction for each sample\u001b[39;00m\n\u001b[1;32m---> 16\u001b[0m predictions \u001b[38;5;241m=\u001b[39m \u001b[43mpredictions\u001b[49m\u001b[38;5;241;43m.\u001b[39;49m\u001b[43mreshape\u001b[49m\u001b[43m(\u001b[49m\u001b[43m(\u001b[49m\u001b[38;5;241;43m4\u001b[39;49m\u001b[43m,\u001b[49m\u001b[38;5;241;43m-\u001b[39;49m\u001b[38;5;241;43m1\u001b[39;49m\u001b[43m)\u001b[49m\u001b[43m)\u001b[49m\n\u001b[0;32m     17\u001b[0m original_predictions \u001b[38;5;241m=\u001b[39m np\u001b[38;5;241m.\u001b[39mapply_along_axis(\u001b[38;5;28;01mlambda\u001b[39;00m x: np\u001b[38;5;241m.\u001b[39mbincount(x)\u001b[38;5;241m.\u001b[39margmax(), axis\u001b[38;5;241m=\u001b[39m\u001b[38;5;241m0\u001b[39m, arr\u001b[38;5;241m=\u001b[39mpredictions)\n\u001b[0;32m     19\u001b[0m \u001b[38;5;66;03m# Now, do the comparison to y_test_original\u001b[39;00m\n",
      "\u001b[1;31mRuntimeError\u001b[0m: shape '[4, -1]' is invalid for input of size 50"
     ]
    }
   ],
   "source": [
    "# Set the network in eval mode since we're not training here\n",
    "\n",
    "model.eval()\n",
    "outputs = None\n",
    "\n",
    " # Turn gradient computation off\n",
    "with torch.no_grad():\n",
    "    outputs = compute_test_outputs(model.float(),testloader,y_test)\n",
    "    \n",
    "# Set the network back in training mode\n",
    "model.train()\n",
    "    \n",
    "    \n",
    "test_accuracy = test(outputs, original['y_test'])\n",
    "\n",
    "num_examples = original['y_test'].size\n",
    "\n",
    "\n",
    "print(f'Accuracy of the network on the {num_examples} test examples: {test_accuracy} %')"
   ]
  },
  {
   "cell_type": "code",
   "execution_count": null,
   "id": "73c8804e",
   "metadata": {},
   "outputs": [],
   "source": []
  }
 ],
 "metadata": {
  "kernelspec": {
   "display_name": "Python 3 (ipykernel)",
   "language": "python",
   "name": "python3"
  },
  "language_info": {
   "codemirror_mode": {
    "name": "ipython",
    "version": 3
   },
   "file_extension": ".py",
   "mimetype": "text/x-python",
   "name": "python",
   "nbconvert_exporter": "python",
   "pygments_lexer": "ipython3",
   "version": "3.8.5"
  }
 },
 "nbformat": 4,
 "nbformat_minor": 5
}
