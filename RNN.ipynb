{
 "cells": [
  {
   "cell_type": "markdown",
   "id": "c08b417b",
   "metadata": {},
   "source": [
    "### Imports"
   ]
  },
  {
   "cell_type": "code",
   "execution_count": 3,
   "id": "b80d7bf7",
   "metadata": {},
   "outputs": [],
   "source": [
    "import numpy as np\n",
    "import torch\n",
    "from utils.preprocess import getData\n",
    "import matplotlib.pyplot as plt\n",
    "\n",
    "torch.set_default_tensor_type(torch.DoubleTensor)\n",
    "\n",
    "from networks.rnn import *\n",
    "from utils.validate import validate\n",
    "from utils.test_accuracy import test"
   ]
  },
  {
   "cell_type": "markdown",
   "id": "1ea0102c",
   "metadata": {},
   "source": [
    "### Functions to train, other utilities"
   ]
  },
  {
   "cell_type": "code",
   "execution_count": 4,
   "id": "8289422e",
   "metadata": {},
   "outputs": [],
   "source": [
    "def get_idxs(in_array, to_find):\n",
    "    \"\"\"Utility function for finding the positions of observations of one array in another an array.\n",
    "    Args:\n",
    "        in_array (array): Array in which to locate elements of to_find\n",
    "        to_find (array): Array of elements to locate in in_array\n",
    "    Returns:\n",
    "        TYPE: Indices of all elements of to_find in in_array\n",
    "    \"\"\"\n",
    "    targets = ([np.where(in_array == x) for x in to_find])\n",
    "    return np.squeeze(np.concatenate(targets, axis=1))\n",
    "\n",
    "def _LSTM_(input_dim, hidden_dim, layer_dim, output_dim, criterion, num_epochs):\n",
    "    \"\"\"\n",
    "    Here you can switch between LSTMModel and LSTM_CNN.\n",
    "    Just note that LSTMModel has different input size so don't forget to check dimensions\n",
    "    \"\"\"\n",
    "\n",
    "    #model = LSTMModel(input_dim, hidden_dim, layer_dim, output_dim)\n",
    "    \n",
    "    model = LSTM_CNN(input_dim, hidden_dim, layer_dim, output_dim)\n",
    "    optimizer = torch.optim.SGD(model.parameters(), lr=learning_rate)\n",
    "    print(model)\n",
    "    \n",
    "    stats = {\n",
    "    'train_accuracies': [],\n",
    "    'train_losses': [],\n",
    "    'val_accuracies': [],\n",
    "    'val_losses': []\n",
    "    }\n",
    "    for epoch in range(num_epochs): # loop over the dataset multiple times\n",
    "        running_loss = 0.0\n",
    "        correct = 0.0\n",
    "        total = 0.0\n",
    "        for i, data in enumerate(trainloader, 0):\n",
    "            # get the inputs; data is a list of [inputs, labels]\n",
    "            inputs, labels = data\n",
    "            #inputs = inputs.float()\n",
    "            #labels = labels.float()\n",
    "      \n",
    "            outputs = model.forward(inputs) #forward pass\n",
    "            optimizer.zero_grad() #caluclate the gradient, manually setting to 0\n",
    "            \n",
    "            \n",
    "            \n",
    "            # obtain the loss function\n",
    "            \n",
    "            loss = criterion(outputs.double(), labels.double())\n",
    "    \n",
    "            loss.backward() #calculates the loss of the loss function\n",
    "    \n",
    "            optimizer.step() #improve from loss, i.e backprop\n",
    "            \n",
    "            # accumulate loss\n",
    "            running_loss += loss.item()\n",
    "            \n",
    "            # Make prediction for batch\n",
    "            _, predicted = outputs.max(1)\n",
    "            \n",
    "            # Store accuracy for batch\n",
    "            # WE convert back from one-hot to integer for checking accuracy\n",
    "            \n",
    "            #print(predicted.shape)\n",
    "            #print(torch.argmax(labels, dim=1).shape)\n",
    "            total += labels.size(0)\n",
    "            correct += predicted.eq(torch.argmax(labels, dim=1)).sum().item()\n",
    "            \n",
    "        # Store accuracy,loss for epoch\n",
    "        train_loss=running_loss/len(trainloader)\n",
    "        train_accuracy=100.*correct/total\n",
    "        \n",
    "        # At the end of each epoch, calculate validation accuracy\n",
    "        \n",
    "        # Set the network in eval mode since we're not training here\n",
    "        model.eval()\n",
    "        \n",
    "         # Turn gradient computation off\n",
    "        with torch.no_grad():\n",
    "            val_accuracy, val_loss = validate(model, valloader, criterion)\n",
    "        \n",
    "        # Set the network back in training mode\n",
    "        model.train()\n",
    "        \n",
    "        stats['train_accuracies'].append(train_accuracy)\n",
    "        stats['train_losses'].append(train_loss)\n",
    "        stats['val_accuracies'].append(val_accuracy)\n",
    "        stats['val_losses'].append(val_loss)\n",
    "        \n",
    "        \n",
    "        # Display results\n",
    "        print(f'Epoch: {epoch}')\n",
    "        print(f'\\t -- Train Loss: {train_loss} | Train Accuracy: {train_accuracy}')\n",
    "        print(f'\\t -- Val Loss: {val_loss} | Val Accuracy: {val_accuracy}')\n",
    "        \n",
    "    \n",
    "    return stats"
   ]
  },
  {
   "cell_type": "markdown",
   "id": "31581761",
   "metadata": {},
   "source": [
    "### Hyperparamaters"
   ]
  },
  {
   "cell_type": "code",
   "execution_count": 5,
   "id": "4f0cb947",
   "metadata": {},
   "outputs": [],
   "source": [
    "batch_size=10\n",
    "num_epochs = 20 \n",
    "learning_rate = 0.01 #0.001 lr\n",
    "hidden_dim = 4 #number of features in hidden state\n",
    "layer_dim = 1 #number of stacked lstm layers"
   ]
  },
  {
   "cell_type": "markdown",
   "id": "6c18c153",
   "metadata": {},
   "source": [
    "### Load, Preprocess Data"
   ]
  },
  {
   "cell_type": "code",
   "execution_count": 6,
   "id": "b6c2c38f",
   "metadata": {},
   "outputs": [],
   "source": [
    "X_train, y_train, X_valid, y_valid, X_test, y_test, person_train, person_valid, person_test, original = getData(lib='torch')\n",
    "\n",
    "# Get data for specific subjects\n",
    "\n",
    "idx_train = get_idxs(person_train, np.array([1]))[0]\n",
    "idx_test = get_idxs(person_test, np.array([1]))[0]\n",
    "X_train = X_train[idx_train,...]\n",
    "X_test = X_test[idx_test,...]\n",
    "y_train = y_train[idx_train,...]\n",
    "y_test = y_test[idx_test,...]\n",
    "\n",
    "# Reshape the input\n",
    "#LSTM: we need (N, 250, 22) #(N,L,H) input of batch_dim x seq_dim x feature_dim\n",
    "\"\"\"\n",
    "X_train = torch.reshape(X_train, (X_train.shape[0], X_train.shape[2], X_train.shape[1]))\n",
    "X_valid= torch.reshape(X_valid, (X_valid.shape[0], X_valid.shape[2], X_valid.shape[1]))\n",
    "X_test= torch.reshape(X_test, (X_test.shape[0], X_test.shape[2], X_test.shape[1]))\n",
    "\"\"\"\n",
    "#CNN_LSTM: \n",
    "X_train = torch.reshape(X_train, (X_train.shape[0], X_train.shape[1], X_train.shape[2]))\n",
    "X_valid= torch.reshape(X_valid, (X_valid.shape[0], X_valid.shape[1], X_valid.shape[2]))\n",
    "X_test= torch.reshape(X_test, (X_test.shape[0], X_test.shape[1], X_test.shape[2]))"
   ]
  },
  {
   "cell_type": "code",
   "execution_count": 7,
   "id": "ddd13fca",
   "metadata": {},
   "outputs": [
    {
     "name": "stdout",
     "output_type": "stream",
     "text": [
      "torch.Size([787, 22, 250])\n"
     ]
    }
   ],
   "source": [
    "print(X_train.shape)"
   ]
  },
  {
   "cell_type": "markdown",
   "id": "06c40721",
   "metadata": {},
   "source": [
    "### Setup DataLoaders"
   ]
  },
  {
   "cell_type": "code",
   "execution_count": 8,
   "id": "31b6ded9",
   "metadata": {},
   "outputs": [],
   "source": [
    "trainset = torch.utils.data.TensorDataset(X_train,y_train)\n",
    "trainloader = torch.utils.data.DataLoader(trainset, batch_size=batch_size,\n",
    "                                          shuffle=True, num_workers=0)\n",
    "\n",
    "# Shuffle is set to false for validation and test sets since no training is done on them, all we do is evaluate.\n",
    "valset =  torch.utils.data.TensorDataset(X_valid, y_valid)\n",
    "valloader = torch.utils.data.DataLoader(valset, batch_size=batch_size,\n",
    "                                          shuffle=False, num_workers=0)\n",
    "\n",
    "testset = torch.utils.data.TensorDataset(X_test, y_test)\n",
    "testloader = torch.utils.data.DataLoader(testset, batch_size=1,\n",
    "                                          shuffle=False, num_workers=0)"
   ]
  },
  {
   "cell_type": "markdown",
   "id": "a0afbd03",
   "metadata": {},
   "source": [
    "### Train the Model"
   ]
  },
  {
   "cell_type": "code",
   "execution_count": 9,
   "id": "e797ce0c",
   "metadata": {},
   "outputs": [
    {
     "name": "stdout",
     "output_type": "stream",
     "text": [
      "LSTM_CNN(\n",
      "  (conv1): Conv1d(22, 64, kernel_size=(5,), stride=(1,))\n",
      "  (conv2): Conv1d(64, 128, kernel_size=(5,), stride=(1,))\n",
      "  (conv3): Conv1d(128, 256, kernel_size=(5,), stride=(1,))\n",
      "  (lstm1): LSTM(238, 4)\n",
      "  (fc2): Linear(in_features=4, out_features=4, bias=True)\n",
      ")\n"
     ]
    },
    {
     "name": "stderr",
     "output_type": "stream",
     "text": [
      "[W NNPACK.cpp:79] Could not initialize NNPACK! Reason: Unsupported hardware.\n"
     ]
    },
    {
     "name": "stdout",
     "output_type": "stream",
     "text": [
      "Epoch: 0\n",
      "\t -- Train Loss: 0.3024097437995131 | Train Accuracy: 26.810673443456164\n",
      "\t -- Val Loss: 0.2575088570424097 | Val Accuracy: 25.666666666666668\n",
      "Epoch: 1\n",
      "\t -- Train Loss: 0.22446616858032165 | Train Accuracy: 26.55654383735705\n",
      "\t -- Val Loss: 0.21224591265574588 | Val Accuracy: 26.6\n",
      "Epoch: 2\n",
      "\t -- Train Loss: 0.1963882557492705 | Train Accuracy: 26.810673443456164\n",
      "\t -- Val Loss: 0.19766637113434876 | Val Accuracy: 26.533333333333335\n",
      "Epoch: 3\n",
      "\t -- Train Loss: 0.1891703142664271 | Train Accuracy: 28.970775095298603\n",
      "\t -- Val Loss: 0.19300372519999107 | Val Accuracy: 28.466666666666665\n",
      "Epoch: 4\n",
      "\t -- Train Loss: 0.18681878228129262 | Train Accuracy: 34.30749682337992\n",
      "\t -- Val Loss: 0.19217295378780008 | Val Accuracy: 29.133333333333333\n",
      "Epoch: 5\n",
      "\t -- Train Loss: 0.18541820142404788 | Train Accuracy: 33.29097839898348\n",
      "\t -- Val Loss: 0.19190508507323586 | Val Accuracy: 29.0\n",
      "Epoch: 6\n",
      "\t -- Train Loss: 0.18307917383725272 | Train Accuracy: 35.45108005082592\n",
      "\t -- Val Loss: 0.1925542885275882 | Val Accuracy: 28.066666666666666\n",
      "Epoch: 7\n",
      "\t -- Train Loss: 0.18348595274128368 | Train Accuracy: 36.46759847522236\n",
      "\t -- Val Loss: 0.19247336221887923 | Val Accuracy: 28.933333333333334\n",
      "Epoch: 8\n",
      "\t -- Train Loss: 0.1813366190379736 | Train Accuracy: 39.64421855146124\n",
      "\t -- Val Loss: 0.19248548514450767 | Val Accuracy: 28.8\n",
      "Epoch: 9\n",
      "\t -- Train Loss: 0.18007301823324723 | Train Accuracy: 40.9148665819568\n",
      "\t -- Val Loss: 0.19334347956379208 | Val Accuracy: 28.2\n",
      "Epoch: 10\n",
      "\t -- Train Loss: 0.17867936812011517 | Train Accuracy: 41.42312579415502\n",
      "\t -- Val Loss: 0.19335299856748014 | Val Accuracy: 28.733333333333334\n",
      "Epoch: 11\n",
      "\t -- Train Loss: 0.17812308803365742 | Train Accuracy: 41.29606099110546\n",
      "\t -- Val Loss: 0.19715308367233278 | Val Accuracy: 28.733333333333334\n",
      "Epoch: 12\n",
      "\t -- Train Loss: 0.1762699586632693 | Train Accuracy: 45.61626429479034\n",
      "\t -- Val Loss: 0.1948758370410129 | Val Accuracy: 29.066666666666666\n",
      "Epoch: 13\n",
      "\t -- Train Loss: 0.17513002238236178 | Train Accuracy: 46.8869123252859\n",
      "\t -- Val Loss: 0.19438933972255956 | Val Accuracy: 28.466666666666665\n",
      "Epoch: 14\n",
      "\t -- Train Loss: 0.172662914902505 | Train Accuracy: 46.75984752223634\n",
      "\t -- Val Loss: 0.1938428055559224 | Val Accuracy: 29.2\n",
      "Epoch: 15\n",
      "\t -- Train Loss: 0.17056999374176982 | Train Accuracy: 47.64930114358323\n",
      "\t -- Val Loss: 0.1944123987191452 | Val Accuracy: 29.733333333333334\n",
      "Epoch: 16\n",
      "\t -- Train Loss: 0.16950914887660756 | Train Accuracy: 48.53875476493011\n",
      "\t -- Val Loss: 0.19546716495023472 | Val Accuracy: 29.533333333333335\n",
      "Epoch: 17\n",
      "\t -- Train Loss: 0.16951949962136184 | Train Accuracy: 48.792884371029224\n",
      "\t -- Val Loss: 0.19600973688108606 | Val Accuracy: 29.466666666666665\n",
      "Epoch: 18\n",
      "\t -- Train Loss: 0.16641992006275733 | Train Accuracy: 49.936467598475225\n",
      "\t -- Val Loss: 0.19598752065191435 | Val Accuracy: 30.133333333333333\n",
      "Epoch: 19\n",
      "\t -- Train Loss: 0.16683325442720565 | Train Accuracy: 49.68233799237611\n",
      "\t -- Val Loss: 0.19782366679184335 | Val Accuracy: 29.066666666666666\n"
     ]
    }
   ],
   "source": [
    "feature_dim = X_train.shape[2]#(X_train.shape[1],X_train.shape[2]) #number of features\n",
    "seq_dim = X_train.shape[1]\n",
    "\n",
    "\n",
    "input_dim = 22\n",
    "output_dim = 4 #number of output classes\n",
    "seq_dim = 250  # Number of steps to unroll\n",
    "\n",
    "criterion = torch.nn.MSELoss()#torch.nn.L1Loss()\n",
    "\n",
    "stats = _LSTM_(input_dim, hidden_dim, layer_dim, output_dim, criterion, num_epochs)"
   ]
  },
  {
   "cell_type": "markdown",
   "id": "462b7b36",
   "metadata": {},
   "source": [
    "### Store results"
   ]
  },
  {
   "cell_type": "code",
   "execution_count": 13,
   "id": "25f7f7c4",
   "metadata": {},
   "outputs": [
    {
     "data": {
      "image/png": "[encoded data removed]",
      "text/plain": [
       "<Figure size 432x288 with 1 Axes>"
      ]
     },
     "metadata": {
      "needs_background": "light"
     },
     "output_type": "display_data"
    },
    {
     "data": {
      "image/png": "[encoded data removed]",
      "text/plain": [
       "<Figure size 432x288 with 1 Axes>"
      ]
     },
     "metadata": {
      "needs_background": "light"
     },
     "output_type": "display_data"
    }
   ],
   "source": [
    "acc_name = 'figures/1_lstm_cnn_acc_hid_'+str(hidden_dim)+'_lay_'+str(layer_dim)+'_loss_'+'MSE'+'_lr_'+str(learning_rate)+'_batch_'+str(batch_size)+'.png'\n",
    "\n",
    "plt.figure()\n",
    "plt.plot(stats['train_accuracies'])\n",
    "plt.plot(stats['val_accuracies'])\n",
    "\n",
    "plt.legend(['train','validation'])\n",
    "plt.title('subject1 Accuracy')\n",
    "\n",
    "plt.savefig(acc_name)\n",
    "\n",
    "loss_name = 'figures/1_lstm_cnn_loss_hid_'+str(hidden_dim)+'_lay_'+str(layer_dim)+'_loss_'+'MSE'+'_lr_'+str(learning_rate)+'_batch_'+str(batch_size)+'.png'\n",
    "plt.figure()\n",
    "plt.plot(stats['train_losses'])\n",
    "plt.plot(stats['val_losses'])\n",
    "\n",
    "plt.legend(['train','validation'])\n",
    "plt.title('subject1 loss')\n",
    "\n",
    "plt.savefig(loss_name)\n",
    "\n",
    "#don't forget to edit figure names, here it's subject specific"
   ]
  },
  {
   "cell_type": "code",
   "execution_count": null,
   "id": "bfeea94c",
   "metadata": {},
   "outputs": [],
   "source": []
  }
 ],
 "metadata": {
  "kernelspec": {
   "display_name": "Python 3 (ipykernel)",
   "language": "python",
   "name": "python3"
  },
  "language_info": {
   "codemirror_mode": {
    "name": "ipython",
    "version": 3
   },
   "file_extension": ".py",
   "mimetype": "text/x-python",
   "name": "python",
   "nbconvert_exporter": "python",
   "pygments_lexer": "ipython3",
   "version": "3.9.10"
  }
 },
 "nbformat": 4,
 "nbformat_minor": 5
}
